{
 "cells": [
  {
   "cell_type": "code",
   "execution_count": 66,
   "id": "e9fc38c1-2d1c-43b5-a2eb-5e25c599ed08",
   "metadata": {
    "tags": []
   },
   "outputs": [],
   "source": [
    "import numpy as np\n",
    "import pandas as pd\n",
    "import matplotlib.pyplot as plt\n",
    "from sklearn.preprocessing import MinMaxScaler\n",
    "from tensorflow import keras\n",
    "from tensorflow.keras.models import Sequential\n",
    "from tensorflow.keras.layers import LSTM, Dense, Dropout\n",
    "from tensorflow.keras.optimizers import Adam\n",
    "from keras.callbacks import ModelCheckpoint, EarlyStopping\n",
    "import joblib\n",
    "\n",
    "\n"
   ]
  },
  {
   "cell_type": "code",
   "execution_count": 3,
   "id": "6c678ca5-7b2e-4389-a24b-d85c01d867f9",
   "metadata": {
    "tags": []
   },
   "outputs": [],
   "source": [
    "data = pd.read_csv(\"with_HardwareTroj.csv\").drop(\"HT\", axis=1)"
   ]
  },
  {
   "cell_type": "code",
   "execution_count": 4,
   "id": "56f2be97-3ea6-48c1-a1e2-11fc422979fd",
   "metadata": {
    "tags": []
   },
   "outputs": [
    {
     "data": {
      "text/html": [
       "<div>\n",
       "<style scoped>\n",
       "    .dataframe tbody tr th:only-of-type {\n",
       "        vertical-align: middle;\n",
       "    }\n",
       "\n",
       "    .dataframe tbody tr th {\n",
       "        vertical-align: top;\n",
       "    }\n",
       "\n",
       "    .dataframe thead th {\n",
       "        text-align: right;\n",
       "    }\n",
       "</style>\n",
       "<table border=\"1\" class=\"dataframe\">\n",
       "  <thead>\n",
       "    <tr style=\"text-align: right;\">\n",
       "      <th></th>\n",
       "      <th>Impedance</th>\n",
       "      <th>Resistance</th>\n",
       "      <th>Reactance</th>\n",
       "    </tr>\n",
       "  </thead>\n",
       "  <tbody>\n",
       "    <tr>\n",
       "      <th>0</th>\n",
       "      <td>272.31</td>\n",
       "      <td>-40.10</td>\n",
       "      <td>7.860000e-10</td>\n",
       "    </tr>\n",
       "    <tr>\n",
       "      <th>1</th>\n",
       "      <td>260.33</td>\n",
       "      <td>-44.83</td>\n",
       "      <td>6.830000e-10</td>\n",
       "    </tr>\n",
       "    <tr>\n",
       "      <th>2</th>\n",
       "      <td>58.97</td>\n",
       "      <td>0.43</td>\n",
       "      <td>1.290000e-08</td>\n",
       "    </tr>\n",
       "    <tr>\n",
       "      <th>3</th>\n",
       "      <td>272.55</td>\n",
       "      <td>-40.55</td>\n",
       "      <td>7.140000e-10</td>\n",
       "    </tr>\n",
       "    <tr>\n",
       "      <th>4</th>\n",
       "      <td>253.93</td>\n",
       "      <td>-42.68</td>\n",
       "      <td>6.610000e-10</td>\n",
       "    </tr>\n",
       "    <tr>\n",
       "      <th>...</th>\n",
       "      <td>...</td>\n",
       "      <td>...</td>\n",
       "      <td>...</td>\n",
       "    </tr>\n",
       "    <tr>\n",
       "      <th>9996</th>\n",
       "      <td>113.23</td>\n",
       "      <td>226.35</td>\n",
       "      <td>2.410000e-08</td>\n",
       "    </tr>\n",
       "    <tr>\n",
       "      <th>9997</th>\n",
       "      <td>115.99</td>\n",
       "      <td>227.68</td>\n",
       "      <td>2.420000e-08</td>\n",
       "    </tr>\n",
       "    <tr>\n",
       "      <th>9998</th>\n",
       "      <td>114.70</td>\n",
       "      <td>227.70</td>\n",
       "      <td>2.420000e-08</td>\n",
       "    </tr>\n",
       "    <tr>\n",
       "      <th>9999</th>\n",
       "      <td>113.99</td>\n",
       "      <td>225.01</td>\n",
       "      <td>2.400000e-08</td>\n",
       "    </tr>\n",
       "    <tr>\n",
       "      <th>10000</th>\n",
       "      <td>107.80</td>\n",
       "      <td>231.42</td>\n",
       "      <td>2.460000e-08</td>\n",
       "    </tr>\n",
       "  </tbody>\n",
       "</table>\n",
       "<p>10001 rows × 3 columns</p>\n",
       "</div>"
      ],
      "text/plain": [
       "       Impedance  Resistance     Reactance\n",
       "0         272.31      -40.10  7.860000e-10\n",
       "1         260.33      -44.83  6.830000e-10\n",
       "2          58.97        0.43  1.290000e-08\n",
       "3         272.55      -40.55  7.140000e-10\n",
       "4         253.93      -42.68  6.610000e-10\n",
       "...          ...         ...           ...\n",
       "9996      113.23      226.35  2.410000e-08\n",
       "9997      115.99      227.68  2.420000e-08\n",
       "9998      114.70      227.70  2.420000e-08\n",
       "9999      113.99      225.01  2.400000e-08\n",
       "10000     107.80      231.42  2.460000e-08\n",
       "\n",
       "[10001 rows x 3 columns]"
      ]
     },
     "execution_count": 4,
     "metadata": {},
     "output_type": "execute_result"
    }
   ],
   "source": [
    "data"
   ]
  },
  {
   "cell_type": "code",
   "execution_count": 5,
   "id": "de44552f-291d-4c41-bf04-aa512b3f9033",
   "metadata": {
    "tags": []
   },
   "outputs": [],
   "source": [
    "# Select the columns you want to predict\n",
    "columns_to_predict = ['Impedance', 'Resistance', 'Reactance']\n"
   ]
  },
  {
   "cell_type": "code",
   "execution_count": null,
   "id": "b13b95b0-c9ac-4420-8c8a-9db1d542ccb0",
   "metadata": {},
   "outputs": [],
   "source": []
  },
  {
   "cell_type": "code",
   "execution_count": 6,
   "id": "68c62c64-2a32-4f0b-b08c-e446c88ab906",
   "metadata": {
    "tags": []
   },
   "outputs": [],
   "source": [
    "sequence_length = 5 \n",
    "\n",
    "def create_sequences(data, sequence_length):\n",
    "    X, y = [], []\n",
    "    for i in range(len(data) - sequence_length):\n",
    "        X.append(data.iloc[i:i+sequence_length][columns_to_predict].values)\n",
    "        y.append(data.iloc[i+sequence_length][columns_to_predict].values)\n",
    "    return np.array(X), np.array(y)\n",
    "\n",
    "X, y = create_sequences(data, sequence_length)"
   ]
  },
  {
   "cell_type": "code",
   "execution_count": 7,
   "id": "e957f83f-3d79-44e3-81e0-357d5324fae3",
   "metadata": {
    "tags": []
   },
   "outputs": [
    {
     "data": {
      "text/plain": [
       "(9996, 3)"
      ]
     },
     "execution_count": 7,
     "metadata": {},
     "output_type": "execute_result"
    }
   ],
   "source": [
    "y.shape"
   ]
  },
  {
   "cell_type": "code",
   "execution_count": 8,
   "id": "8ee3bacd-a035-419d-87c9-4e4e4ef43d9c",
   "metadata": {
    "tags": []
   },
   "outputs": [
    {
     "data": {
      "text/plain": [
       "(9996, 5, 3)"
      ]
     },
     "execution_count": 8,
     "metadata": {},
     "output_type": "execute_result"
    }
   ],
   "source": [
    "X.shape"
   ]
  },
  {
   "cell_type": "code",
   "execution_count": 9,
   "id": "bc876e85-f4e0-4384-abf8-ccd628b8f92d",
   "metadata": {
    "tags": []
   },
   "outputs": [],
   "source": [
    "# Define the split ratio (e.g., 80% train, 20% test)\n",
    "split_ratio = 0.8\n",
    "\n",
    "# Calculate the split index\n",
    "split_index = int(len(X) * split_ratio)\n",
    "\n",
    "# Split the data into train and test sets\n",
    "X_train, X_test = X[:split_index], X[split_index:]\n",
    "y_train, y_test = y[:split_index], y[split_index:]"
   ]
  },
  {
   "cell_type": "code",
   "execution_count": 10,
   "id": "13b5fa41-67a5-4111-bdc5-ff7ccde753ad",
   "metadata": {
    "tags": []
   },
   "outputs": [
    {
     "name": "stdout",
     "output_type": "stream",
     "text": [
      "(7996, 5, 3) (2000, 5, 3)\n"
     ]
    }
   ],
   "source": [
    "print(X_train.shape, X_test.shape)"
   ]
  },
  {
   "cell_type": "code",
   "execution_count": 11,
   "id": "3248f3a4-a7c0-4c8f-ac84-58137163f0a0",
   "metadata": {
    "tags": []
   },
   "outputs": [
    {
     "name": "stdout",
     "output_type": "stream",
     "text": [
      "(7996, 3) (2000, 3)\n"
     ]
    }
   ],
   "source": [
    "print(y_train.shape, y_test.shape)"
   ]
  },
  {
   "cell_type": "code",
   "execution_count": null,
   "id": "f99eadaf-0ea9-4dc2-9683-36541632254b",
   "metadata": {},
   "outputs": [],
   "source": []
  },
  {
   "cell_type": "code",
   "execution_count": 12,
   "id": "cb5bb902-1fae-4a33-9169-9397161c7db3",
   "metadata": {
    "tags": []
   },
   "outputs": [
    {
     "name": "stdout",
     "output_type": "stream",
     "text": [
      "Model: \"sequential\"\n",
      "_________________________________________________________________\n",
      " Layer (type)                Output Shape              Param #   \n",
      "=================================================================\n",
      " lstm (LSTM)                 (None, 5, 128)            67584     \n",
      "                                                                 \n",
      " lstm_1 (LSTM)               (None, 64)                49408     \n",
      "                                                                 \n",
      " dropout (Dropout)           (None, 64)                0         \n",
      "                                                                 \n",
      " dense (Dense)               (None, 3)                 195       \n",
      "                                                                 \n",
      "=================================================================\n",
      "Total params: 117187 (457.76 KB)\n",
      "Trainable params: 117187 (457.76 KB)\n",
      "Non-trainable params: 0 (0.00 Byte)\n",
      "_________________________________________________________________\n"
     ]
    }
   ],
   "source": [
    "# Create the model\n",
    "model = Sequential()\n",
    "\n",
    "model.add(LSTM(128, input_shape=(sequence_length, len(columns_to_predict)), activation='relu', return_sequences=True))\n",
    "\n",
    "model.add(LSTM(64, activation='relu'))  \n",
    "model.add(Dropout(0.001))\n",
    "\n",
    "model.add(Dense(len(columns_to_predict)))\n",
    "\n",
    "# Compile the model with custom learning rate\n",
    "optimizer = Adam(learning_rate=0.00001)\n",
    "model.compile(optimizer=optimizer, loss='mean_squared_error')\n",
    "\n",
    "# Print the model summary\n",
    "model.summary()\n"
   ]
  },
  {
   "cell_type": "code",
   "execution_count": 13,
   "id": "868c4518-b668-4048-9325-c151b032687d",
   "metadata": {
    "tags": []
   },
   "outputs": [
    {
     "name": "stdout",
     "output_type": "stream",
     "text": [
      "Epoch 1/60\n",
      "200/200 [==============================] - 9s 21ms/step - loss: 3921.1602 - val_loss: 6497.2295\n",
      "Epoch 2/60\n",
      "200/200 [==============================] - 3s 15ms/step - loss: 3237.8186 - val_loss: 5366.1323\n",
      "Epoch 3/60\n",
      "200/200 [==============================] - 3s 15ms/step - loss: 2125.2764 - val_loss: 3548.6274\n",
      "Epoch 4/60\n",
      "200/200 [==============================] - 3s 15ms/step - loss: 1094.9971 - val_loss: 2330.3711\n",
      "Epoch 5/60\n",
      "200/200 [==============================] - 3s 15ms/step - loss: 670.6020 - val_loss: 1496.2595\n",
      "Epoch 6/60\n",
      "200/200 [==============================] - 3s 15ms/step - loss: 427.9792 - val_loss: 975.5010\n",
      "Epoch 7/60\n",
      "200/200 [==============================] - 3s 16ms/step - loss: 294.7584 - val_loss: 699.9648\n",
      "Epoch 8/60\n",
      "200/200 [==============================] - 3s 17ms/step - loss: 221.6101 - val_loss: 515.7224\n",
      "Epoch 9/60\n",
      "200/200 [==============================] - 3s 15ms/step - loss: 173.6702 - val_loss: 428.3441\n",
      "Epoch 10/60\n",
      "200/200 [==============================] - 3s 16ms/step - loss: 146.7049 - val_loss: 367.0636\n",
      "Epoch 11/60\n",
      "200/200 [==============================] - 3s 16ms/step - loss: 124.6836 - val_loss: 318.8868\n",
      "Epoch 12/60\n",
      "200/200 [==============================] - 3s 15ms/step - loss: 107.9046 - val_loss: 290.8619\n",
      "Epoch 13/60\n",
      "200/200 [==============================] - 3s 17ms/step - loss: 92.8129 - val_loss: 256.4074\n",
      "Epoch 14/60\n",
      "200/200 [==============================] - 3s 15ms/step - loss: 79.6334 - val_loss: 238.7607\n",
      "Epoch 15/60\n",
      "200/200 [==============================] - 3s 15ms/step - loss: 73.8274 - val_loss: 228.7622\n",
      "Epoch 16/60\n",
      "200/200 [==============================] - 4s 19ms/step - loss: 69.5542 - val_loss: 224.9458\n",
      "Epoch 17/60\n",
      "200/200 [==============================] - 3s 15ms/step - loss: 66.7750 - val_loss: 215.5808\n",
      "Epoch 18/60\n",
      "200/200 [==============================] - 3s 15ms/step - loss: 64.4730 - val_loss: 211.3742\n",
      "Epoch 19/60\n",
      "200/200 [==============================] - 3s 15ms/step - loss: 62.1040 - val_loss: 209.1838\n",
      "Epoch 20/60\n",
      "200/200 [==============================] - 3s 16ms/step - loss: 60.8857 - val_loss: 206.3109\n",
      "Epoch 21/60\n",
      "200/200 [==============================] - 3s 16ms/step - loss: 59.7786 - val_loss: 205.6213\n",
      "Epoch 22/60\n",
      "200/200 [==============================] - 3s 16ms/step - loss: 58.6837 - val_loss: 201.1302\n",
      "Epoch 23/60\n",
      "200/200 [==============================] - 3s 16ms/step - loss: 56.9222 - val_loss: 199.6150\n",
      "Epoch 24/60\n",
      "200/200 [==============================] - 3s 17ms/step - loss: 56.4014 - val_loss: 199.6773\n",
      "Epoch 25/60\n",
      "200/200 [==============================] - 4s 18ms/step - loss: 54.3622 - val_loss: 198.2142\n",
      "Epoch 26/60\n",
      "200/200 [==============================] - 3s 16ms/step - loss: 53.5303 - val_loss: 195.3295\n",
      "Epoch 27/60\n",
      "200/200 [==============================] - 4s 18ms/step - loss: 52.7992 - val_loss: 197.7066\n",
      "Epoch 28/60\n",
      "200/200 [==============================] - 4s 19ms/step - loss: 51.5788 - val_loss: 195.7891\n",
      "Epoch 29/60\n",
      "200/200 [==============================] - 3s 15ms/step - loss: 51.9027 - val_loss: 197.1649\n",
      "Epoch 29: early stopping\n"
     ]
    }
   ],
   "source": [
    "history = model.fit(X_train, y_train, epochs=60, batch_size=32, validation_split=0.2, verbose=1, callbacks=EarlyStopping(monitor='val_loss', mode='min', verbose=1, patience=3))\n"
   ]
  },
  {
   "cell_type": "code",
   "execution_count": 15,
   "id": "f5591a04-e26f-401b-a551-e3a09d5dddb2",
   "metadata": {
    "tags": []
   },
   "outputs": [
    {
     "data": {
      "text/plain": [
       "Text(0.5, 1.0, 'Loss Curves')"
      ]
     },
     "execution_count": 15,
     "metadata": {},
     "output_type": "execute_result"
    },
    {
     "data": {
      "image/png": "[encoded data removed]",
      "text/plain": [
       "<Figure size 600x400 with 1 Axes>"
      ]
     },
     "metadata": {},
     "output_type": "display_data"
    }
   ],
   "source": [
    "# Plotting the loss curve\n",
    "plt.figure(figsize=[6,4])\n",
    "plt.plot(history.history['loss'], 'black', linewidth=2.0)\n",
    "plt.plot(history.history['val_loss'], 'blue', linewidth=2.0)\n",
    "plt.legend(['Training Loss', 'Validation Loss'], fontsize=14)\n",
    "plt.xlabel('Epochs', fontsize=10)\n",
    "plt.ylabel('Loss', fontsize=10)\n",
    "plt.title('Loss Curves', fontsize=12)"
   ]
  },
  {
   "cell_type": "code",
   "execution_count": 16,
   "id": "d413c755-09c2-4789-a47d-556fd0065a8d",
   "metadata": {
    "tags": []
   },
   "outputs": [
    {
     "name": "stdout",
     "output_type": "stream",
     "text": [
      "63/63 [==============================] - 1s 5ms/step - loss: 36.2011\n",
      "Test Loss: 36.20109939575195\n"
     ]
    }
   ],
   "source": [
    "test_loss = model.evaluate(X_test, y_test)\n",
    "print(f'Test Loss: {test_loss}')"
   ]
  },
  {
   "cell_type": "code",
   "execution_count": null,
   "id": "f6364eeb-dacc-47bd-ad74-a99f0ab90457",
   "metadata": {
    "tags": []
   },
   "outputs": [],
   "source": []
  },
  {
   "cell_type": "code",
   "execution_count": 17,
   "id": "58bd27a8-1aa3-4983-9d40-ede6721591b7",
   "metadata": {
    "tags": []
   },
   "outputs": [
    {
     "name": "stdout",
     "output_type": "stream",
     "text": [
      "250/250 [==============================] - 2s 6ms/step\n"
     ]
    }
   ],
   "source": [
    "predictions = model.predict(X_train)"
   ]
  },
  {
   "cell_type": "code",
   "execution_count": 18,
   "id": "9a1caf74-85d0-48cc-affc-59e8c924f55f",
   "metadata": {
    "tags": []
   },
   "outputs": [
    {
     "data": {
      "image/png": "[encoded data removed]",
      "text/plain": [
       "<Figure size 1200x600 with 1 Axes>"
      ]
     },
     "metadata": {},
     "output_type": "display_data"
    }
   ],
   "source": [
    "#plotting the train vs predicted \n",
    "\n",
    "plt.figure(figsize=(12, 6))\n",
    "for i, column in enumerate(columns_to_predict):\n",
    "    plt.plot(predictions[:, i], label=f'Predicted {column}')\n",
    "    plt.plot(y_train[:, i], label=f'actual {column}')\n",
    "\n",
    "plt.xlabel('Timestamp')\n",
    "plt.ylabel('Value')\n",
    "plt.legend()\n",
    "plt.show()"
   ]
  },
  {
   "cell_type": "code",
   "execution_count": null,
   "id": "e41bbaac-b860-4c45-9e4a-417b2fdfac46",
   "metadata": {},
   "outputs": [],
   "source": []
  },
  {
   "cell_type": "code",
   "execution_count": 19,
   "id": "792482e0-f33d-4a90-85bc-5d9b47b63970",
   "metadata": {
    "tags": []
   },
   "outputs": [
    {
     "name": "stdout",
     "output_type": "stream",
     "text": [
      "63/63 [==============================] - 0s 6ms/step\n"
     ]
    }
   ],
   "source": [
    "predictions = model.predict(X_test)"
   ]
  },
  {
   "cell_type": "code",
   "execution_count": 20,
   "id": "8dfc00dd-6e50-4998-a171-d13a6c77fa09",
   "metadata": {
    "tags": []
   },
   "outputs": [
    {
     "data": {
      "image/png": "[encoded data removed]",
      "text/plain": [
       "<Figure size 1200x600 with 1 Axes>"
      ]
     },
     "metadata": {},
     "output_type": "display_data"
    }
   ],
   "source": [
    "# plotting the test vs predicted\n",
    "\n",
    "plt.figure(figsize=(12, 6))\n",
    "for i, column in enumerate(columns_to_predict):\n",
    "    plt.plot(predictions[:, i], label=f'Predicted {column}')\n",
    "    plt.plot(y_test[:, i], label=f'actual {column}')\n",
    "\n",
    "\n",
    "plt.xlabel('Timestamp')\n",
    "plt.ylabel('Value')\n",
    "plt.legend()\n",
    "plt.show()"
   ]
  },
  {
   "cell_type": "code",
   "execution_count": null,
   "id": "feb20f18-d20a-448a-8959-93d435e05213",
   "metadata": {},
   "outputs": [],
   "source": []
  },
  {
   "cell_type": "code",
   "execution_count": null,
   "id": "f565d5c3-4964-48c8-93db-6cbd345e3c31",
   "metadata": {},
   "outputs": [],
   "source": []
  },
  {
   "cell_type": "markdown",
   "id": "41800184-5b28-4096-8297-a2f7e201a52b",
   "metadata": {},
   "source": [
    "comparing the predicted values vs actual values for our test dataset."
   ]
  },
  {
   "cell_type": "code",
   "execution_count": 21,
   "id": "87cc6b54-505f-4b6d-b222-279632639e78",
   "metadata": {
    "tags": []
   },
   "outputs": [
    {
     "name": "stdout",
     "output_type": "stream",
     "text": [
      "63/63 [==============================] - 0s 6ms/step\n"
     ]
    },
    {
     "data": {
      "text/html": [
       "<div>\n",
       "<style scoped>\n",
       "    .dataframe tbody tr th:only-of-type {\n",
       "        vertical-align: middle;\n",
       "    }\n",
       "\n",
       "    .dataframe tbody tr th {\n",
       "        vertical-align: top;\n",
       "    }\n",
       "\n",
       "    .dataframe thead th {\n",
       "        text-align: right;\n",
       "    }\n",
       "</style>\n",
       "<table border=\"1\" class=\"dataframe\">\n",
       "  <thead>\n",
       "    <tr style=\"text-align: right;\">\n",
       "      <th></th>\n",
       "      <th>0</th>\n",
       "      <th>1</th>\n",
       "      <th>2</th>\n",
       "    </tr>\n",
       "  </thead>\n",
       "  <tbody>\n",
       "    <tr>\n",
       "      <th>0</th>\n",
       "      <td>11.010071</td>\n",
       "      <td>-34.379650</td>\n",
       "      <td>0.046605</td>\n",
       "    </tr>\n",
       "    <tr>\n",
       "      <th>1</th>\n",
       "      <td>11.094292</td>\n",
       "      <td>-34.375454</td>\n",
       "      <td>-0.054589</td>\n",
       "    </tr>\n",
       "    <tr>\n",
       "      <th>2</th>\n",
       "      <td>10.862301</td>\n",
       "      <td>-34.353230</td>\n",
       "      <td>-0.074129</td>\n",
       "    </tr>\n",
       "    <tr>\n",
       "      <th>3</th>\n",
       "      <td>10.770708</td>\n",
       "      <td>-34.237507</td>\n",
       "      <td>0.121216</td>\n",
       "    </tr>\n",
       "    <tr>\n",
       "      <th>4</th>\n",
       "      <td>10.694631</td>\n",
       "      <td>-34.003269</td>\n",
       "      <td>0.138780</td>\n",
       "    </tr>\n",
       "    <tr>\n",
       "      <th>...</th>\n",
       "      <td>...</td>\n",
       "      <td>...</td>\n",
       "      <td>...</td>\n",
       "    </tr>\n",
       "    <tr>\n",
       "      <th>1995</th>\n",
       "      <td>103.070183</td>\n",
       "      <td>207.964996</td>\n",
       "      <td>-19.130415</td>\n",
       "    </tr>\n",
       "    <tr>\n",
       "      <th>1996</th>\n",
       "      <td>108.947639</td>\n",
       "      <td>224.274277</td>\n",
       "      <td>-14.242020</td>\n",
       "    </tr>\n",
       "    <tr>\n",
       "      <th>1997</th>\n",
       "      <td>108.400711</td>\n",
       "      <td>214.375198</td>\n",
       "      <td>-2.583895</td>\n",
       "    </tr>\n",
       "    <tr>\n",
       "      <th>1998</th>\n",
       "      <td>114.535110</td>\n",
       "      <td>226.186859</td>\n",
       "      <td>-1.466438</td>\n",
       "    </tr>\n",
       "    <tr>\n",
       "      <th>1999</th>\n",
       "      <td>117.657570</td>\n",
       "      <td>228.538895</td>\n",
       "      <td>-6.513821</td>\n",
       "    </tr>\n",
       "  </tbody>\n",
       "</table>\n",
       "<p>2000 rows × 3 columns</p>\n",
       "</div>"
      ],
      "text/plain": [
       "               0           1          2\n",
       "0      11.010071  -34.379650   0.046605\n",
       "1      11.094292  -34.375454  -0.054589\n",
       "2      10.862301  -34.353230  -0.074129\n",
       "3      10.770708  -34.237507   0.121216\n",
       "4      10.694631  -34.003269   0.138780\n",
       "...          ...         ...        ...\n",
       "1995  103.070183  207.964996 -19.130415\n",
       "1996  108.947639  224.274277 -14.242020\n",
       "1997  108.400711  214.375198  -2.583895\n",
       "1998  114.535110  226.186859  -1.466438\n",
       "1999  117.657570  228.538895  -6.513821\n",
       "\n",
       "[2000 rows x 3 columns]"
      ]
     },
     "execution_count": 21,
     "metadata": {},
     "output_type": "execute_result"
    }
   ],
   "source": [
    "pd.DataFrame(model.predict(X_test))"
   ]
  },
  {
   "cell_type": "code",
   "execution_count": 22,
   "id": "6911316d-ec34-4dc6-9060-5676c46bed88",
   "metadata": {
    "tags": []
   },
   "outputs": [
    {
     "data": {
      "text/html": [
       "<div>\n",
       "<style scoped>\n",
       "    .dataframe tbody tr th:only-of-type {\n",
       "        vertical-align: middle;\n",
       "    }\n",
       "\n",
       "    .dataframe tbody tr th {\n",
       "        vertical-align: top;\n",
       "    }\n",
       "\n",
       "    .dataframe thead th {\n",
       "        text-align: right;\n",
       "    }\n",
       "</style>\n",
       "<table border=\"1\" class=\"dataframe\">\n",
       "  <thead>\n",
       "    <tr style=\"text-align: right;\">\n",
       "      <th></th>\n",
       "      <th>0</th>\n",
       "      <th>1</th>\n",
       "      <th>2</th>\n",
       "    </tr>\n",
       "  </thead>\n",
       "  <tbody>\n",
       "    <tr>\n",
       "      <th>0</th>\n",
       "      <td>10.92</td>\n",
       "      <td>-34.81</td>\n",
       "      <td>3.820000e-12</td>\n",
       "    </tr>\n",
       "    <tr>\n",
       "      <th>1</th>\n",
       "      <td>10.25</td>\n",
       "      <td>-35.60</td>\n",
       "      <td>3.730000e-12</td>\n",
       "    </tr>\n",
       "    <tr>\n",
       "      <th>2</th>\n",
       "      <td>11.21</td>\n",
       "      <td>-34.63</td>\n",
       "      <td>3.840000e-12</td>\n",
       "    </tr>\n",
       "    <tr>\n",
       "      <th>3</th>\n",
       "      <td>11.29</td>\n",
       "      <td>-34.58</td>\n",
       "      <td>3.840000e-12</td>\n",
       "    </tr>\n",
       "    <tr>\n",
       "      <th>4</th>\n",
       "      <td>11.14</td>\n",
       "      <td>-34.39</td>\n",
       "      <td>3.860000e-12</td>\n",
       "    </tr>\n",
       "    <tr>\n",
       "      <th>...</th>\n",
       "      <td>...</td>\n",
       "      <td>...</td>\n",
       "      <td>...</td>\n",
       "    </tr>\n",
       "    <tr>\n",
       "      <th>1995</th>\n",
       "      <td>113.23</td>\n",
       "      <td>226.35</td>\n",
       "      <td>2.410000e-08</td>\n",
       "    </tr>\n",
       "    <tr>\n",
       "      <th>1996</th>\n",
       "      <td>115.99</td>\n",
       "      <td>227.68</td>\n",
       "      <td>2.420000e-08</td>\n",
       "    </tr>\n",
       "    <tr>\n",
       "      <th>1997</th>\n",
       "      <td>114.70</td>\n",
       "      <td>227.70</td>\n",
       "      <td>2.420000e-08</td>\n",
       "    </tr>\n",
       "    <tr>\n",
       "      <th>1998</th>\n",
       "      <td>113.99</td>\n",
       "      <td>225.01</td>\n",
       "      <td>2.400000e-08</td>\n",
       "    </tr>\n",
       "    <tr>\n",
       "      <th>1999</th>\n",
       "      <td>107.80</td>\n",
       "      <td>231.42</td>\n",
       "      <td>2.460000e-08</td>\n",
       "    </tr>\n",
       "  </tbody>\n",
       "</table>\n",
       "<p>2000 rows × 3 columns</p>\n",
       "</div>"
      ],
      "text/plain": [
       "           0       1             2\n",
       "0      10.92  -34.81  3.820000e-12\n",
       "1      10.25  -35.60  3.730000e-12\n",
       "2      11.21  -34.63  3.840000e-12\n",
       "3      11.29  -34.58  3.840000e-12\n",
       "4      11.14  -34.39  3.860000e-12\n",
       "...      ...     ...           ...\n",
       "1995  113.23  226.35  2.410000e-08\n",
       "1996  115.99  227.68  2.420000e-08\n",
       "1997  114.70  227.70  2.420000e-08\n",
       "1998  113.99  225.01  2.400000e-08\n",
       "1999  107.80  231.42  2.460000e-08\n",
       "\n",
       "[2000 rows x 3 columns]"
      ]
     },
     "execution_count": 22,
     "metadata": {},
     "output_type": "execute_result"
    }
   ],
   "source": [
    "pd.DataFrame(y_test)"
   ]
  },
  {
   "cell_type": "code",
   "execution_count": null,
   "id": "6ed78363-dd95-4c81-9203-3ac43c66960e",
   "metadata": {
    "tags": []
   },
   "outputs": [],
   "source": []
  },
  {
   "cell_type": "code",
   "execution_count": 112,
   "id": "4280cd5c-bea9-4739-a750-597c77c4cf80",
   "metadata": {
    "tags": []
   },
   "outputs": [
    {
     "data": {
      "text/html": [
       "<div>\n",
       "<style scoped>\n",
       "    .dataframe tbody tr th:only-of-type {\n",
       "        vertical-align: middle;\n",
       "    }\n",
       "\n",
       "    .dataframe tbody tr th {\n",
       "        vertical-align: top;\n",
       "    }\n",
       "\n",
       "    .dataframe thead th {\n",
       "        text-align: right;\n",
       "    }\n",
       "</style>\n",
       "<table border=\"1\" class=\"dataframe\">\n",
       "  <thead>\n",
       "    <tr style=\"text-align: right;\">\n",
       "      <th></th>\n",
       "      <th>Impedance</th>\n",
       "      <th>Resistance</th>\n",
       "      <th>Reactance</th>\n",
       "    </tr>\n",
       "  </thead>\n",
       "  <tbody>\n",
       "    <tr>\n",
       "      <th>8000</th>\n",
       "      <td>12.41</td>\n",
       "      <td>-33.61</td>\n",
       "      <td>3.960000e-12</td>\n",
       "    </tr>\n",
       "    <tr>\n",
       "      <th>8001</th>\n",
       "      <td>10.92</td>\n",
       "      <td>-34.81</td>\n",
       "      <td>3.820000e-12</td>\n",
       "    </tr>\n",
       "    <tr>\n",
       "      <th>8002</th>\n",
       "      <td>10.25</td>\n",
       "      <td>-35.60</td>\n",
       "      <td>3.730000e-12</td>\n",
       "    </tr>\n",
       "    <tr>\n",
       "      <th>8003</th>\n",
       "      <td>11.21</td>\n",
       "      <td>-34.63</td>\n",
       "      <td>3.840000e-12</td>\n",
       "    </tr>\n",
       "    <tr>\n",
       "      <th>8004</th>\n",
       "      <td>11.29</td>\n",
       "      <td>-34.58</td>\n",
       "      <td>3.840000e-12</td>\n",
       "    </tr>\n",
       "    <tr>\n",
       "      <th>8005</th>\n",
       "      <td>11.14</td>\n",
       "      <td>-34.39</td>\n",
       "      <td>3.860000e-12</td>\n",
       "    </tr>\n",
       "  </tbody>\n",
       "</table>\n",
       "</div>"
      ],
      "text/plain": [
       "      Impedance  Resistance     Reactance\n",
       "8000      12.41      -33.61  3.960000e-12\n",
       "8001      10.92      -34.81  3.820000e-12\n",
       "8002      10.25      -35.60  3.730000e-12\n",
       "8003      11.21      -34.63  3.840000e-12\n",
       "8004      11.29      -34.58  3.840000e-12\n",
       "8005      11.14      -34.39  3.860000e-12"
      ]
     },
     "execution_count": 112,
     "metadata": {},
     "output_type": "execute_result"
    }
   ],
   "source": [
    "data[8000:8006]"
   ]
  },
  {
   "cell_type": "code",
   "execution_count": 122,
   "id": "c1cace29-1c4f-43d0-a1ba-6f60d4c835f3",
   "metadata": {
    "tags": []
   },
   "outputs": [
    {
     "name": "stdout",
     "output_type": "stream",
     "text": [
      "1/1 [==============================] - 0s 37ms/step\n"
     ]
    },
    {
     "data": {
      "text/html": [
       "<div>\n",
       "<style scoped>\n",
       "    .dataframe tbody tr th:only-of-type {\n",
       "        vertical-align: middle;\n",
       "    }\n",
       "\n",
       "    .dataframe tbody tr th {\n",
       "        vertical-align: top;\n",
       "    }\n",
       "\n",
       "    .dataframe thead th {\n",
       "        text-align: right;\n",
       "    }\n",
       "</style>\n",
       "<table border=\"1\" class=\"dataframe\">\n",
       "  <thead>\n",
       "    <tr style=\"text-align: right;\">\n",
       "      <th></th>\n",
       "      <th>0</th>\n",
       "      <th>1</th>\n",
       "      <th>2</th>\n",
       "    </tr>\n",
       "  </thead>\n",
       "  <tbody>\n",
       "    <tr>\n",
       "      <th>0</th>\n",
       "      <td>10.694628</td>\n",
       "      <td>-34.003262</td>\n",
       "      <td>0.138782</td>\n",
       "    </tr>\n",
       "  </tbody>\n",
       "</table>\n",
       "</div>"
      ],
      "text/plain": [
       "           0          1         2\n",
       "0  10.694628 -34.003262  0.138782"
      ]
     },
     "execution_count": 122,
     "metadata": {},
     "output_type": "execute_result"
    }
   ],
   "source": [
    "\n",
    "# assign your new dataset to new_data variable..\n",
    "new_data = data[8000:8006]\n",
    "\n",
    "\n",
    "# Create sequences for prediction\n",
    "X_new = []\n",
    "\n",
    "\n",
    "for i in range(len(new_data) - sequence_length):\n",
    "    X_new.append(new_data[columns_to_predict].iloc[i:i+sequence_length].values)\n",
    "\n",
    "X_new = np.array(X_new)\n",
    "\n",
    "# Make predictions\n",
    "predictions = model.predict(X_new)\n",
    "\n",
    "pd.DataFrame(predictions)"
   ]
  },
  {
   "cell_type": "code",
   "execution_count": 123,
   "id": "0515d062-bf18-4a2f-bbbc-3fa2588df5f7",
   "metadata": {
    "tags": []
   },
   "outputs": [
    {
     "data": {
      "text/html": [
       "<div>\n",
       "<style scoped>\n",
       "    .dataframe tbody tr th:only-of-type {\n",
       "        vertical-align: middle;\n",
       "    }\n",
       "\n",
       "    .dataframe tbody tr th {\n",
       "        vertical-align: top;\n",
       "    }\n",
       "\n",
       "    .dataframe thead th {\n",
       "        text-align: right;\n",
       "    }\n",
       "</style>\n",
       "<table border=\"1\" class=\"dataframe\">\n",
       "  <thead>\n",
       "    <tr style=\"text-align: right;\">\n",
       "      <th></th>\n",
       "      <th>Impedance</th>\n",
       "      <th>Resistance</th>\n",
       "      <th>Reactance</th>\n",
       "    </tr>\n",
       "  </thead>\n",
       "  <tbody>\n",
       "    <tr>\n",
       "      <th>8000</th>\n",
       "      <td>12.41</td>\n",
       "      <td>-33.61</td>\n",
       "      <td>3.960000e-12</td>\n",
       "    </tr>\n",
       "    <tr>\n",
       "      <th>8001</th>\n",
       "      <td>10.92</td>\n",
       "      <td>-34.81</td>\n",
       "      <td>3.820000e-12</td>\n",
       "    </tr>\n",
       "    <tr>\n",
       "      <th>8002</th>\n",
       "      <td>10.25</td>\n",
       "      <td>-35.60</td>\n",
       "      <td>3.730000e-12</td>\n",
       "    </tr>\n",
       "    <tr>\n",
       "      <th>8003</th>\n",
       "      <td>11.21</td>\n",
       "      <td>-34.63</td>\n",
       "      <td>3.840000e-12</td>\n",
       "    </tr>\n",
       "    <tr>\n",
       "      <th>8004</th>\n",
       "      <td>11.29</td>\n",
       "      <td>-34.58</td>\n",
       "      <td>3.840000e-12</td>\n",
       "    </tr>\n",
       "    <tr>\n",
       "      <th>8005</th>\n",
       "      <td>11.14</td>\n",
       "      <td>-34.39</td>\n",
       "      <td>3.860000e-12</td>\n",
       "    </tr>\n",
       "  </tbody>\n",
       "</table>\n",
       "</div>"
      ],
      "text/plain": [
       "      Impedance  Resistance     Reactance\n",
       "8000      12.41      -33.61  3.960000e-12\n",
       "8001      10.92      -34.81  3.820000e-12\n",
       "8002      10.25      -35.60  3.730000e-12\n",
       "8003      11.21      -34.63  3.840000e-12\n",
       "8004      11.29      -34.58  3.840000e-12\n",
       "8005      11.14      -34.39  3.860000e-12"
      ]
     },
     "execution_count": 123,
     "metadata": {},
     "output_type": "execute_result"
    }
   ],
   "source": [
    "pd.DataFrame(new_data)"
   ]
  },
  {
   "cell_type": "code",
   "execution_count": null,
   "id": "51699650-5f21-4e2a-ab5a-276fb9ee6c3e",
   "metadata": {},
   "outputs": [],
   "source": []
  },
  {
   "cell_type": "code",
   "execution_count": null,
   "id": "14aa8233-85b7-4151-b44e-acbe43a4c89b",
   "metadata": {
    "tags": []
   },
   "outputs": [],
   "source": []
  },
  {
   "cell_type": "code",
   "execution_count": 125,
   "id": "46db1d3e-91ae-467e-9383-25c24c3667b3",
   "metadata": {
    "tags": []
   },
   "outputs": [
    {
     "name": "stdout",
     "output_type": "stream",
     "text": [
      "1/1 [==============================] - 0s 33ms/step\n",
      "1/1 [==============================] - 0s 29ms/step\n",
      "1/1 [==============================] - 0s 36ms/step\n",
      "Recursive Predictions:\n"
     ]
    },
    {
     "data": {
      "text/html": [
       "<div>\n",
       "<style scoped>\n",
       "    .dataframe tbody tr th:only-of-type {\n",
       "        vertical-align: middle;\n",
       "    }\n",
       "\n",
       "    .dataframe tbody tr th {\n",
       "        vertical-align: top;\n",
       "    }\n",
       "\n",
       "    .dataframe thead th {\n",
       "        text-align: right;\n",
       "    }\n",
       "</style>\n",
       "<table border=\"1\" class=\"dataframe\">\n",
       "  <thead>\n",
       "    <tr style=\"text-align: right;\">\n",
       "      <th></th>\n",
       "      <th>Impedance</th>\n",
       "      <th>Resistance</th>\n",
       "      <th>Reactance</th>\n",
       "    </tr>\n",
       "  </thead>\n",
       "  <tbody>\n",
       "    <tr>\n",
       "      <th>0</th>\n",
       "      <td>10.577870</td>\n",
       "      <td>-33.962730</td>\n",
       "      <td>0.057994</td>\n",
       "    </tr>\n",
       "    <tr>\n",
       "      <th>1</th>\n",
       "      <td>10.464794</td>\n",
       "      <td>-33.691525</td>\n",
       "      <td>0.081332</td>\n",
       "    </tr>\n",
       "    <tr>\n",
       "      <th>2</th>\n",
       "      <td>10.369907</td>\n",
       "      <td>-33.316219</td>\n",
       "      <td>0.101726</td>\n",
       "    </tr>\n",
       "  </tbody>\n",
       "</table>\n",
       "</div>"
      ],
      "text/plain": [
       "   Impedance  Resistance  Reactance\n",
       "0  10.577870  -33.962730   0.057994\n",
       "1  10.464794  -33.691525   0.081332\n",
       "2  10.369907  -33.316219   0.101726"
      ]
     },
     "execution_count": 125,
     "metadata": {},
     "output_type": "execute_result"
    }
   ],
   "source": [
    "# Number of recursive predictions you want to make\n",
    "num_predictions = 3\n",
    "\n",
    "# Create a list to store the predictions\n",
    "recursive_predictions = []\n",
    "\n",
    "for _ in range(num_predictions):\n",
    "    # Reshape the last sequence for prediction\n",
    "    input_data = X_new[-1].reshape(1, sequence_length, len(columns_to_predict))\n",
    "    \n",
    "    # Make a prediction for the next time step\n",
    "    prediction = model.predict(input_data)[0]\n",
    "    \n",
    "    # Append the prediction to the list\n",
    "    recursive_predictions.append(prediction)\n",
    "    \n",
    "    # Update the input data for the next prediction\n",
    "    X_new[-1] = np.vstack((X_new[-1][1:], prediction))\n",
    "\n",
    "    \n",
    "\n",
    "# Print the recursive predictions\n",
    "print(\"Recursive Predictions:\")\n",
    "rec_preds = pd.DataFrame(recursive_predictions,columns= ['Impedance', 'Resistance', 'Reactance'])\n",
    "rec_preds"
   ]
  },
  {
   "cell_type": "code",
   "execution_count": 126,
   "id": "451a8eb9-d329-4589-8f1f-4fcb6ad25634",
   "metadata": {
    "tags": []
   },
   "outputs": [
    {
     "name": "stdout",
     "output_type": "stream",
     "text": [
      "random_forest_model.pkl loaded in the notebook and ready for predictions\n"
     ]
    }
   ],
   "source": [
    "\n",
    "# Specify the file path where the model is saved\n",
    "model_filename = 'random_forest_model.pkl'\n",
    "loaded_rf = joblib.load(model_filename)\n",
    "\n",
    "print(f\"{model_filename} loaded in the notebook and ready for predictions\")\n"
   ]
  },
  {
   "cell_type": "code",
   "execution_count": 127,
   "id": "082f04b1-b46b-4751-9528-1147e3bb112b",
   "metadata": {
    "tags": []
   },
   "outputs": [
    {
     "data": {
      "text/plain": [
       "array([1, 1, 1], dtype=int64)"
      ]
     },
     "execution_count": 127,
     "metadata": {},
     "output_type": "execute_result"
    }
   ],
   "source": [
    "# Now, you can use the loaded model for predictions\n",
    "loaded_rf.predict(rec_preds)"
   ]
  },
  {
   "cell_type": "code",
   "execution_count": null,
   "id": "21f72991-c47a-4ff1-b32d-f20b1a80417c",
   "metadata": {},
   "outputs": [],
   "source": []
  },
  {
   "cell_type": "code",
   "execution_count": null,
   "id": "8b69b268-9cfb-4e65-a8ee-aa8a7bbd3228",
   "metadata": {},
   "outputs": [],
   "source": []
  },
  {
   "cell_type": "code",
   "execution_count": null,
   "id": "cb976ec2-866d-44c0-a0d5-525600c1633f",
   "metadata": {},
   "outputs": [],
   "source": []
  },
  {
   "cell_type": "code",
   "execution_count": null,
   "id": "bc0cf1a6-70b3-4ef9-bd83-e5ff219d0444",
   "metadata": {},
   "outputs": [],
   "source": []
  },
  {
   "cell_type": "code",
   "execution_count": null,
   "id": "62fe19ef-5494-4240-9cbd-7eaea30855df",
   "metadata": {},
   "outputs": [],
   "source": []
  },
  {
   "cell_type": "code",
   "execution_count": null,
   "id": "8fbd1014-24f7-49f3-b0b5-ade3c557c9d4",
   "metadata": {},
   "outputs": [],
   "source": []
  },
  {
   "cell_type": "code",
   "execution_count": null,
   "id": "21b66843-fb19-46d0-b560-9371f3d4bf35",
   "metadata": {},
   "outputs": [],
   "source": []
  },
  {
   "cell_type": "code",
   "execution_count": null,
   "id": "874cebd3-6122-49d7-9f6c-4af2c65af647",
   "metadata": {},
   "outputs": [],
   "source": []
  },
  {
   "cell_type": "code",
   "execution_count": null,
   "id": "a790e45f-d388-4069-b327-2d4059e9d56d",
   "metadata": {},
   "outputs": [],
   "source": []
  },
  {
   "cell_type": "code",
   "execution_count": null,
   "id": "e6f30496-0d11-4b07-9e91-51616fb88a47",
   "metadata": {},
   "outputs": [],
   "source": []
  },
  {
   "cell_type": "code",
   "execution_count": null,
   "id": "79b8d0c3-3fae-4354-8987-25ba63ba99a0",
   "metadata": {},
   "outputs": [],
   "source": []
  },
  {
   "cell_type": "code",
   "execution_count": null,
   "id": "6d164d19-1149-4fcd-bde3-8ee48a92be85",
   "metadata": {},
   "outputs": [],
   "source": []
  },
  {
   "cell_type": "code",
   "execution_count": null,
   "id": "76a07962-c9ed-4123-bc39-852173c9e16b",
   "metadata": {},
   "outputs": [],
   "source": []
  },
  {
   "cell_type": "code",
   "execution_count": null,
   "id": "4cb90b56-153f-4654-af75-d59ab6b9eda4",
   "metadata": {},
   "outputs": [],
   "source": []
  },
  {
   "cell_type": "code",
   "execution_count": null,
   "id": "c05eb98a-b7e9-493e-a794-015cd85621f2",
   "metadata": {},
   "outputs": [],
   "source": []
  },
  {
   "cell_type": "code",
   "execution_count": null,
   "id": "c12458c4-c266-455a-9cb3-eb567fc0e04c",
   "metadata": {},
   "outputs": [],
   "source": []
  },
  {
   "cell_type": "code",
   "execution_count": null,
   "id": "dad87a17-45b7-4c8c-87a0-596b1dbe305f",
   "metadata": {},
   "outputs": [],
   "source": []
  }
 ],
 "metadata": {
  "kernelspec": {
   "display_name": "Python 3 (ipykernel)",
   "language": "python",
   "name": "python3"
  },
  "language_info": {
   "codemirror_mode": {
    "name": "ipython",
    "version": 3
   },
   "file_extension": ".py",
   "mimetype": "text/x-python",
   "name": "python",
   "nbconvert_exporter": "python",
   "pygments_lexer": "ipython3",
   "version": "3.11.4"
  }
 },
 "nbformat": 4,
 "nbformat_minor": 5
}
