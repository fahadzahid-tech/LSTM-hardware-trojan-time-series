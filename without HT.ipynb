{
 "cells": [
  {
   "cell_type": "code",
   "execution_count": 31,
   "id": "c7824136-a02c-42db-95e7-aaae2b95b3f3",
   "metadata": {
    "tags": []
   },
   "outputs": [],
   "source": [
    "import numpy as np\n",
    "import pandas as pd\n",
    "import matplotlib.pyplot as plt\n",
    "from sklearn.preprocessing import MinMaxScaler\n",
    "from tensorflow import keras\n",
    "from tensorflow.keras.models import Sequential\n",
    "from tensorflow.keras.layers import LSTM, Dense, Dropout\n",
    "from tensorflow.keras.optimizers import Adam\n",
    "from keras.callbacks import ModelCheckpoint, EarlyStopping\n",
    "import joblib\n"
   ]
  },
  {
   "cell_type": "code",
   "execution_count": 4,
   "id": "7382cbb7-b92e-4e6d-af90-1c7fbe8c55af",
   "metadata": {
    "tags": []
   },
   "outputs": [],
   "source": [
    "data = pd.read_csv(\"without_HardwareTroj.csv\").drop(\"HT\", axis=1)"
   ]
  },
  {
   "cell_type": "code",
   "execution_count": 5,
   "id": "0f35da23-6917-4e8e-af67-826417111483",
   "metadata": {
    "tags": []
   },
   "outputs": [
    {
     "data": {
      "text/html": [
       "<div>\n",
       "<style scoped>\n",
       "    .dataframe tbody tr th:only-of-type {\n",
       "        vertical-align: middle;\n",
       "    }\n",
       "\n",
       "    .dataframe tbody tr th {\n",
       "        vertical-align: top;\n",
       "    }\n",
       "\n",
       "    .dataframe thead th {\n",
       "        text-align: right;\n",
       "    }\n",
       "</style>\n",
       "<table border=\"1\" class=\"dataframe\">\n",
       "  <thead>\n",
       "    <tr style=\"text-align: right;\">\n",
       "      <th></th>\n",
       "      <th>Impedance</th>\n",
       "      <th>Resistance</th>\n",
       "      <th>Reactance</th>\n",
       "    </tr>\n",
       "  </thead>\n",
       "  <tbody>\n",
       "    <tr>\n",
       "      <th>0</th>\n",
       "      <td>56.85</td>\n",
       "      <td>-798.00</td>\n",
       "      <td>3.950000e-11</td>\n",
       "    </tr>\n",
       "    <tr>\n",
       "      <th>1</th>\n",
       "      <td>67.83</td>\n",
       "      <td>-850.18</td>\n",
       "      <td>3.600000e-11</td>\n",
       "    </tr>\n",
       "    <tr>\n",
       "      <th>2</th>\n",
       "      <td>59.84</td>\n",
       "      <td>-835.34</td>\n",
       "      <td>3.560000e-11</td>\n",
       "    </tr>\n",
       "    <tr>\n",
       "      <th>3</th>\n",
       "      <td>60.60</td>\n",
       "      <td>-805.52</td>\n",
       "      <td>3.590000e-11</td>\n",
       "    </tr>\n",
       "    <tr>\n",
       "      <th>4</th>\n",
       "      <td>59.28</td>\n",
       "      <td>-778.88</td>\n",
       "      <td>3.620000e-11</td>\n",
       "    </tr>\n",
       "    <tr>\n",
       "      <th>...</th>\n",
       "      <td>...</td>\n",
       "      <td>...</td>\n",
       "      <td>...</td>\n",
       "    </tr>\n",
       "    <tr>\n",
       "      <th>9996</th>\n",
       "      <td>196.93</td>\n",
       "      <td>174.59</td>\n",
       "      <td>1.860000e-08</td>\n",
       "    </tr>\n",
       "    <tr>\n",
       "      <th>9997</th>\n",
       "      <td>197.90</td>\n",
       "      <td>174.75</td>\n",
       "      <td>1.860000e-08</td>\n",
       "    </tr>\n",
       "    <tr>\n",
       "      <th>9998</th>\n",
       "      <td>201.87</td>\n",
       "      <td>174.87</td>\n",
       "      <td>1.860000e-08</td>\n",
       "    </tr>\n",
       "    <tr>\n",
       "      <th>9999</th>\n",
       "      <td>200.02</td>\n",
       "      <td>173.07</td>\n",
       "      <td>1.840000e-08</td>\n",
       "    </tr>\n",
       "    <tr>\n",
       "      <th>10000</th>\n",
       "      <td>200.37</td>\n",
       "      <td>172.24</td>\n",
       "      <td>1.830000e-08</td>\n",
       "    </tr>\n",
       "  </tbody>\n",
       "</table>\n",
       "<p>10001 rows × 3 columns</p>\n",
       "</div>"
      ],
      "text/plain": [
       "       Impedance  Resistance     Reactance\n",
       "0          56.85     -798.00  3.950000e-11\n",
       "1          67.83     -850.18  3.600000e-11\n",
       "2          59.84     -835.34  3.560000e-11\n",
       "3          60.60     -805.52  3.590000e-11\n",
       "4          59.28     -778.88  3.620000e-11\n",
       "...          ...         ...           ...\n",
       "9996      196.93      174.59  1.860000e-08\n",
       "9997      197.90      174.75  1.860000e-08\n",
       "9998      201.87      174.87  1.860000e-08\n",
       "9999      200.02      173.07  1.840000e-08\n",
       "10000     200.37      172.24  1.830000e-08\n",
       "\n",
       "[10001 rows x 3 columns]"
      ]
     },
     "execution_count": 5,
     "metadata": {},
     "output_type": "execute_result"
    }
   ],
   "source": [
    "data"
   ]
  },
  {
   "cell_type": "code",
   "execution_count": 6,
   "id": "079d9b38-5552-4f19-b970-5a4ecb7f3a95",
   "metadata": {
    "tags": []
   },
   "outputs": [],
   "source": [
    "# Select the columns you want to predict\n",
    "columns_to_predict = ['Impedance', 'Resistance', 'Reactance']\n"
   ]
  },
  {
   "cell_type": "code",
   "execution_count": 7,
   "id": "f5935791-4945-49f8-903c-dec4a5a2cf06",
   "metadata": {
    "tags": []
   },
   "outputs": [
    {
     "data": {
      "text/html": [
       "<div>\n",
       "<style scoped>\n",
       "    .dataframe tbody tr th:only-of-type {\n",
       "        vertical-align: middle;\n",
       "    }\n",
       "\n",
       "    .dataframe tbody tr th {\n",
       "        vertical-align: top;\n",
       "    }\n",
       "\n",
       "    .dataframe thead th {\n",
       "        text-align: right;\n",
       "    }\n",
       "</style>\n",
       "<table border=\"1\" class=\"dataframe\">\n",
       "  <thead>\n",
       "    <tr style=\"text-align: right;\">\n",
       "      <th></th>\n",
       "      <th>Impedance</th>\n",
       "      <th>Resistance</th>\n",
       "      <th>Reactance</th>\n",
       "    </tr>\n",
       "  </thead>\n",
       "  <tbody>\n",
       "    <tr>\n",
       "      <th>0</th>\n",
       "      <td>56.85</td>\n",
       "      <td>-798.00</td>\n",
       "      <td>3.950000e-11</td>\n",
       "    </tr>\n",
       "    <tr>\n",
       "      <th>1</th>\n",
       "      <td>67.83</td>\n",
       "      <td>-850.18</td>\n",
       "      <td>3.600000e-11</td>\n",
       "    </tr>\n",
       "    <tr>\n",
       "      <th>2</th>\n",
       "      <td>59.84</td>\n",
       "      <td>-835.34</td>\n",
       "      <td>3.560000e-11</td>\n",
       "    </tr>\n",
       "    <tr>\n",
       "      <th>3</th>\n",
       "      <td>60.60</td>\n",
       "      <td>-805.52</td>\n",
       "      <td>3.590000e-11</td>\n",
       "    </tr>\n",
       "    <tr>\n",
       "      <th>4</th>\n",
       "      <td>59.28</td>\n",
       "      <td>-778.88</td>\n",
       "      <td>3.620000e-11</td>\n",
       "    </tr>\n",
       "    <tr>\n",
       "      <th>...</th>\n",
       "      <td>...</td>\n",
       "      <td>...</td>\n",
       "      <td>...</td>\n",
       "    </tr>\n",
       "    <tr>\n",
       "      <th>9996</th>\n",
       "      <td>196.93</td>\n",
       "      <td>174.59</td>\n",
       "      <td>1.860000e-08</td>\n",
       "    </tr>\n",
       "    <tr>\n",
       "      <th>9997</th>\n",
       "      <td>197.90</td>\n",
       "      <td>174.75</td>\n",
       "      <td>1.860000e-08</td>\n",
       "    </tr>\n",
       "    <tr>\n",
       "      <th>9998</th>\n",
       "      <td>201.87</td>\n",
       "      <td>174.87</td>\n",
       "      <td>1.860000e-08</td>\n",
       "    </tr>\n",
       "    <tr>\n",
       "      <th>9999</th>\n",
       "      <td>200.02</td>\n",
       "      <td>173.07</td>\n",
       "      <td>1.840000e-08</td>\n",
       "    </tr>\n",
       "    <tr>\n",
       "      <th>10000</th>\n",
       "      <td>200.37</td>\n",
       "      <td>172.24</td>\n",
       "      <td>1.830000e-08</td>\n",
       "    </tr>\n",
       "  </tbody>\n",
       "</table>\n",
       "<p>10001 rows × 3 columns</p>\n",
       "</div>"
      ],
      "text/plain": [
       "       Impedance  Resistance     Reactance\n",
       "0          56.85     -798.00  3.950000e-11\n",
       "1          67.83     -850.18  3.600000e-11\n",
       "2          59.84     -835.34  3.560000e-11\n",
       "3          60.60     -805.52  3.590000e-11\n",
       "4          59.28     -778.88  3.620000e-11\n",
       "...          ...         ...           ...\n",
       "9996      196.93      174.59  1.860000e-08\n",
       "9997      197.90      174.75  1.860000e-08\n",
       "9998      201.87      174.87  1.860000e-08\n",
       "9999      200.02      173.07  1.840000e-08\n",
       "10000     200.37      172.24  1.830000e-08\n",
       "\n",
       "[10001 rows x 3 columns]"
      ]
     },
     "execution_count": 7,
     "metadata": {},
     "output_type": "execute_result"
    }
   ],
   "source": [
    "data"
   ]
  },
  {
   "cell_type": "code",
   "execution_count": 8,
   "id": "3a69f3b4-378b-468d-9264-d4b62a5b04d4",
   "metadata": {
    "tags": []
   },
   "outputs": [],
   "source": [
    "# data[columns_to_predict] = scaler.inverse_transform(data[columns_to_predict])\n",
    "# data"
   ]
  },
  {
   "cell_type": "code",
   "execution_count": 9,
   "id": "42a41d17-8955-4903-8eea-10d8a3f2b90e",
   "metadata": {
    "tags": []
   },
   "outputs": [],
   "source": [
    "sequence_length = 5 \n",
    "\n",
    "def create_sequences(data, sequence_length):\n",
    "    X, y = [], []\n",
    "    for i in range(len(data) - sequence_length):\n",
    "        X.append(data.iloc[i:i+sequence_length][columns_to_predict].values)\n",
    "        y.append(data.iloc[i+sequence_length][columns_to_predict].values)\n",
    "    return np.array(X), np.array(y)\n",
    "\n",
    "X, y = create_sequences(data, sequence_length)"
   ]
  },
  {
   "cell_type": "code",
   "execution_count": 10,
   "id": "ba68333e-8235-431d-b659-6c610b9972ff",
   "metadata": {
    "tags": []
   },
   "outputs": [
    {
     "data": {
      "text/plain": [
       "(9996, 5, 3)"
      ]
     },
     "execution_count": 10,
     "metadata": {},
     "output_type": "execute_result"
    }
   ],
   "source": [
    "X.shape"
   ]
  },
  {
   "cell_type": "code",
   "execution_count": 11,
   "id": "61d13b39-621b-4d7c-b39a-a7a905716466",
   "metadata": {
    "tags": []
   },
   "outputs": [
    {
     "data": {
      "text/plain": [
       "(9996, 3)"
      ]
     },
     "execution_count": 11,
     "metadata": {},
     "output_type": "execute_result"
    }
   ],
   "source": [
    "y.shape"
   ]
  },
  {
   "cell_type": "code",
   "execution_count": 12,
   "id": "5357ebdd-b810-4cb7-81b7-243c3dc1e960",
   "metadata": {
    "tags": []
   },
   "outputs": [],
   "source": [
    "# Define the split ratio (e.g., 80% train, 20% test)\n",
    "split_ratio = 0.8\n",
    "\n",
    "# Calculate the split index\n",
    "split_index = int(len(X) * split_ratio)\n",
    "\n",
    "# Split the data into train and test sets\n",
    "X_train, X_test = X[:split_index], X[split_index:]\n",
    "y_train, y_test = y[:split_index], y[split_index:]"
   ]
  },
  {
   "cell_type": "code",
   "execution_count": 13,
   "id": "f8b3cdc6-f452-450c-a9cb-828c017fd1c1",
   "metadata": {
    "tags": []
   },
   "outputs": [
    {
     "name": "stdout",
     "output_type": "stream",
     "text": [
      "(7996, 5, 3) (2000, 5, 3)\n"
     ]
    }
   ],
   "source": [
    "print(X_train.shape, X_test.shape)"
   ]
  },
  {
   "cell_type": "code",
   "execution_count": 14,
   "id": "755c7f60-e377-438f-a8b6-691b9c1a6728",
   "metadata": {
    "tags": []
   },
   "outputs": [
    {
     "name": "stdout",
     "output_type": "stream",
     "text": [
      "(7996, 3) (2000, 3)\n"
     ]
    }
   ],
   "source": [
    "print(y_train.shape, y_test.shape)"
   ]
  },
  {
   "cell_type": "code",
   "execution_count": null,
   "id": "e5023507-72c3-4dc4-8ae4-e8685830d4b8",
   "metadata": {
    "tags": []
   },
   "outputs": [],
   "source": []
  },
  {
   "cell_type": "code",
   "execution_count": 15,
   "id": "99c5d35f-9ee3-421c-83ac-07be9400ea1e",
   "metadata": {
    "tags": []
   },
   "outputs": [
    {
     "name": "stdout",
     "output_type": "stream",
     "text": [
      "Model: \"sequential\"\n",
      "_________________________________________________________________\n",
      " Layer (type)                Output Shape              Param #   \n",
      "=================================================================\n",
      " lstm (LSTM)                 (None, 5, 128)            67584     \n",
      "                                                                 \n",
      " lstm_1 (LSTM)               (None, 64)                49408     \n",
      "                                                                 \n",
      " dropout (Dropout)           (None, 64)                0         \n",
      "                                                                 \n",
      " dense (Dense)               (None, 3)                 195       \n",
      "                                                                 \n",
      "=================================================================\n",
      "Total params: 117187 (457.76 KB)\n",
      "Trainable params: 117187 (457.76 KB)\n",
      "Non-trainable params: 0 (0.00 Byte)\n",
      "_________________________________________________________________\n"
     ]
    }
   ],
   "source": [
    "# Create the model\n",
    "model = Sequential()\n",
    "\n",
    "model.add(LSTM(128, input_shape=(sequence_length, len(columns_to_predict)), activation='relu', return_sequences=True))\n",
    "\n",
    "model.add(LSTM(64, activation='relu'))  \n",
    "model.add(Dropout(0.001))\n",
    "\n",
    "model.add(Dense(len(columns_to_predict)))\n",
    "\n",
    "# Compile the model with custom learning rate\n",
    "optimizer = Adam(learning_rate=0.0001)\n",
    "model.compile(optimizer=optimizer, loss='mean_squared_error')\n",
    "\n",
    "# Print the model summary\n",
    "model.summary()\n"
   ]
  },
  {
   "cell_type": "code",
   "execution_count": 16,
   "id": "4c96f807-12a0-45f0-9777-6feea4a28569",
   "metadata": {
    "tags": []
   },
   "outputs": [
    {
     "name": "stdout",
     "output_type": "stream",
     "text": [
      "Epoch 1/60\n",
      "200/200 [==============================] - 9s 21ms/step - loss: 4385.5186 - val_loss: 4837.5688\n",
      "Epoch 2/60\n",
      "200/200 [==============================] - 3s 15ms/step - loss: 669.6852 - val_loss: 201.3760\n",
      "Epoch 3/60\n",
      "200/200 [==============================] - 3s 14ms/step - loss: 109.0229 - val_loss: 148.2585\n",
      "Epoch 4/60\n",
      "200/200 [==============================] - 3s 15ms/step - loss: 51.6301 - val_loss: 106.1947\n",
      "Epoch 5/60\n",
      "200/200 [==============================] - 3s 16ms/step - loss: 31.3836 - val_loss: 82.3537\n",
      "Epoch 6/60\n",
      "200/200 [==============================] - 3s 15ms/step - loss: 32.3545 - val_loss: 94.8253\n",
      "Epoch 7/60\n",
      "200/200 [==============================] - 3s 15ms/step - loss: 27.9809 - val_loss: 57.5548\n",
      "Epoch 8/60\n",
      "200/200 [==============================] - 3s 17ms/step - loss: 19.0626 - val_loss: 60.2794\n",
      "Epoch 9/60\n",
      "200/200 [==============================] - 3s 17ms/step - loss: 21.1173 - val_loss: 75.7965\n",
      "Epoch 10/60\n",
      "200/200 [==============================] - 3s 16ms/step - loss: 27.3209 - val_loss: 61.8689\n",
      "Epoch 10: early stopping\n"
     ]
    }
   ],
   "source": [
    "history = model.fit(X_train, y_train, epochs=60, batch_size=32, validation_split=0.2, verbose=1, callbacks=EarlyStopping(monitor='val_loss', mode='min', verbose=1, patience=3))\n"
   ]
  },
  {
   "cell_type": "code",
   "execution_count": 17,
   "id": "99dab7e8-4906-47f5-a831-d80900ce7dfb",
   "metadata": {
    "tags": []
   },
   "outputs": [
    {
     "data": {
      "text/plain": [
       "Text(0.5, 1.0, 'Loss Curves')"
      ]
     },
     "execution_count": 17,
     "metadata": {},
     "output_type": "execute_result"
    },
    {
     "data": {
      "image/png": "[encoded data removed]",
      "text/plain": [
       "<Figure size 600x400 with 1 Axes>"
      ]
     },
     "metadata": {},
     "output_type": "display_data"
    }
   ],
   "source": [
    "# Plotting the loss curve\n",
    "plt.figure(figsize=[6,4])\n",
    "plt.plot(history.history['loss'], 'black', linewidth=2.0)\n",
    "plt.plot(history.history['val_loss'], 'blue', linewidth=2.0)\n",
    "plt.legend(['Training Loss', 'Validation Loss'], fontsize=14)\n",
    "plt.xlabel('Epochs', fontsize=10)\n",
    "plt.ylabel('Loss', fontsize=10)\n",
    "plt.title('Loss Curves', fontsize=12)"
   ]
  },
  {
   "cell_type": "code",
   "execution_count": 18,
   "id": "9f79b72d-be2c-4ed3-95bb-f770b1855828",
   "metadata": {
    "tags": []
   },
   "outputs": [
    {
     "name": "stdout",
     "output_type": "stream",
     "text": [
      "63/63 [==============================] - 1s 8ms/step - loss: 13.3911\n",
      "Test Loss: 13.391103744506836\n"
     ]
    }
   ],
   "source": [
    "test_loss = model.evaluate(X_test, y_test)\n",
    "print(f'Test Loss: {test_loss}')"
   ]
  },
  {
   "cell_type": "code",
   "execution_count": null,
   "id": "6ec0e325-d2bc-41c3-b297-046be7c32a38",
   "metadata": {
    "tags": []
   },
   "outputs": [],
   "source": []
  },
  {
   "cell_type": "code",
   "execution_count": 19,
   "id": "07230e9c-fca1-4feb-b84b-335654577bb1",
   "metadata": {
    "tags": []
   },
   "outputs": [
    {
     "name": "stdout",
     "output_type": "stream",
     "text": [
      "250/250 [==============================] - 2s 7ms/step\n"
     ]
    }
   ],
   "source": [
    "predictions = model.predict(X_train)"
   ]
  },
  {
   "cell_type": "code",
   "execution_count": 20,
   "id": "135bd864-bf6e-4760-be43-8b6c142c3e8f",
   "metadata": {
    "tags": []
   },
   "outputs": [
    {
     "data": {
      "text/plain": [
       "(7996, 3)"
      ]
     },
     "execution_count": 20,
     "metadata": {},
     "output_type": "execute_result"
    }
   ],
   "source": [
    "predictions.shape"
   ]
  },
  {
   "cell_type": "code",
   "execution_count": 21,
   "id": "56e0b098-bafe-44f9-b5c0-039d629ad20c",
   "metadata": {
    "tags": []
   },
   "outputs": [
    {
     "data": {
      "image/png": "[encoded data removed]",
      "text/plain": [
       "<Figure size 1200x600 with 1 Axes>"
      ]
     },
     "metadata": {},
     "output_type": "display_data"
    }
   ],
   "source": [
    "#plotting the train vs predicted \n",
    "\n",
    "\n",
    "plt.figure(figsize=(12, 6))\n",
    "for i, column in enumerate(columns_to_predict):\n",
    "    plt.plot(predictions[:, i], label=f'Predicted {column}')\n",
    "    plt.plot(y_train[:, i], label=f'actual {column}')\n",
    "\n",
    "plt.xlabel('Timestamp')\n",
    "plt.ylabel('Value')\n",
    "plt.legend()\n",
    "plt.show()"
   ]
  },
  {
   "cell_type": "code",
   "execution_count": null,
   "id": "49e15f46-9331-4083-a541-602c9c0a4cc2",
   "metadata": {
    "tags": []
   },
   "outputs": [],
   "source": []
  },
  {
   "cell_type": "code",
   "execution_count": 22,
   "id": "ef9122dd-4bd8-4139-a4d1-04926d287378",
   "metadata": {
    "tags": []
   },
   "outputs": [
    {
     "name": "stdout",
     "output_type": "stream",
     "text": [
      "63/63 [==============================] - 0s 6ms/step\n"
     ]
    }
   ],
   "source": [
    "predictions = model.predict(X_test)"
   ]
  },
  {
   "cell_type": "code",
   "execution_count": 23,
   "id": "ca83cd1a-904c-469b-83b3-342b61611f4e",
   "metadata": {
    "tags": []
   },
   "outputs": [
    {
     "data": {
      "text/plain": [
       "(2000, 3)"
      ]
     },
     "execution_count": 23,
     "metadata": {},
     "output_type": "execute_result"
    }
   ],
   "source": [
    "predictions.shape"
   ]
  },
  {
   "cell_type": "code",
   "execution_count": 24,
   "id": "ee9607b9-11f5-497a-a99b-8d51d3b56f72",
   "metadata": {
    "tags": []
   },
   "outputs": [
    {
     "data": {
      "image/png": "[encoded data removed]",
      "text/plain": [
       "<Figure size 1200x600 with 1 Axes>"
      ]
     },
     "metadata": {},
     "output_type": "display_data"
    }
   ],
   "source": [
    "# plotting the test vs predicted\n",
    "\n",
    "plt.figure(figsize=(12, 6))\n",
    "for i, column in enumerate(columns_to_predict):\n",
    "    plt.plot(predictions[:, i], label=f'Predicted {column}')\n",
    "    plt.plot(y_test[:, i], label=f'actual {column}')\n",
    "\n",
    "plt.xlabel('Timestamp')\n",
    "plt.ylabel('Value')\n",
    "plt.legend()\n",
    "plt.show()"
   ]
  },
  {
   "cell_type": "code",
   "execution_count": null,
   "id": "e889e159-138b-450a-a34b-ad9ff7d0d7be",
   "metadata": {
    "tags": []
   },
   "outputs": [],
   "source": []
  },
  {
   "cell_type": "code",
   "execution_count": null,
   "id": "e0b68aed-98c5-4deb-8a5a-305b860991a6",
   "metadata": {
    "tags": []
   },
   "outputs": [],
   "source": []
  },
  {
   "cell_type": "markdown",
   "id": "b5d4d239-4351-4490-978b-4cf57f6f197e",
   "metadata": {
    "tags": []
   },
   "source": [
    "comparing the predicted values vs actual values for our test dataset."
   ]
  },
  {
   "cell_type": "code",
   "execution_count": 25,
   "id": "f1baec47-8994-4777-b353-c45853a327e9",
   "metadata": {
    "tags": []
   },
   "outputs": [
    {
     "name": "stdout",
     "output_type": "stream",
     "text": [
      "63/63 [==============================] - 0s 6ms/step\n"
     ]
    },
    {
     "data": {
      "text/html": [
       "<div>\n",
       "<style scoped>\n",
       "    .dataframe tbody tr th:only-of-type {\n",
       "        vertical-align: middle;\n",
       "    }\n",
       "\n",
       "    .dataframe tbody tr th {\n",
       "        vertical-align: top;\n",
       "    }\n",
       "\n",
       "    .dataframe thead th {\n",
       "        text-align: right;\n",
       "    }\n",
       "</style>\n",
       "<table border=\"1\" class=\"dataframe\">\n",
       "  <thead>\n",
       "    <tr style=\"text-align: right;\">\n",
       "      <th></th>\n",
       "      <th>0</th>\n",
       "      <th>1</th>\n",
       "      <th>2</th>\n",
       "    </tr>\n",
       "  </thead>\n",
       "  <tbody>\n",
       "    <tr>\n",
       "      <th>0</th>\n",
       "      <td>24.315386</td>\n",
       "      <td>-42.118130</td>\n",
       "      <td>-0.257959</td>\n",
       "    </tr>\n",
       "    <tr>\n",
       "      <th>1</th>\n",
       "      <td>24.214350</td>\n",
       "      <td>-41.996426</td>\n",
       "      <td>-0.296046</td>\n",
       "    </tr>\n",
       "    <tr>\n",
       "      <th>2</th>\n",
       "      <td>24.108288</td>\n",
       "      <td>-41.697659</td>\n",
       "      <td>-0.365319</td>\n",
       "    </tr>\n",
       "    <tr>\n",
       "      <th>3</th>\n",
       "      <td>23.934984</td>\n",
       "      <td>-41.620255</td>\n",
       "      <td>-0.285121</td>\n",
       "    </tr>\n",
       "    <tr>\n",
       "      <th>4</th>\n",
       "      <td>24.090273</td>\n",
       "      <td>-41.521404</td>\n",
       "      <td>-0.252461</td>\n",
       "    </tr>\n",
       "    <tr>\n",
       "      <th>...</th>\n",
       "      <td>...</td>\n",
       "      <td>...</td>\n",
       "      <td>...</td>\n",
       "    </tr>\n",
       "    <tr>\n",
       "      <th>1995</th>\n",
       "      <td>237.031677</td>\n",
       "      <td>182.950974</td>\n",
       "      <td>2.203118</td>\n",
       "    </tr>\n",
       "    <tr>\n",
       "      <th>1996</th>\n",
       "      <td>235.118500</td>\n",
       "      <td>186.295944</td>\n",
       "      <td>-3.465829</td>\n",
       "    </tr>\n",
       "    <tr>\n",
       "      <th>1997</th>\n",
       "      <td>239.413528</td>\n",
       "      <td>185.439224</td>\n",
       "      <td>-1.915397</td>\n",
       "    </tr>\n",
       "    <tr>\n",
       "      <th>1998</th>\n",
       "      <td>237.378250</td>\n",
       "      <td>185.953384</td>\n",
       "      <td>-3.857423</td>\n",
       "    </tr>\n",
       "    <tr>\n",
       "      <th>1999</th>\n",
       "      <td>236.874466</td>\n",
       "      <td>187.043610</td>\n",
       "      <td>-3.739303</td>\n",
       "    </tr>\n",
       "  </tbody>\n",
       "</table>\n",
       "<p>2000 rows × 3 columns</p>\n",
       "</div>"
      ],
      "text/plain": [
       "               0           1         2\n",
       "0      24.315386  -42.118130 -0.257959\n",
       "1      24.214350  -41.996426 -0.296046\n",
       "2      24.108288  -41.697659 -0.365319\n",
       "3      23.934984  -41.620255 -0.285121\n",
       "4      24.090273  -41.521404 -0.252461\n",
       "...          ...         ...       ...\n",
       "1995  237.031677  182.950974  2.203118\n",
       "1996  235.118500  186.295944 -3.465829\n",
       "1997  239.413528  185.439224 -1.915397\n",
       "1998  237.378250  185.953384 -3.857423\n",
       "1999  236.874466  187.043610 -3.739303\n",
       "\n",
       "[2000 rows x 3 columns]"
      ]
     },
     "execution_count": 25,
     "metadata": {},
     "output_type": "execute_result"
    }
   ],
   "source": [
    "\n",
    "pd.DataFrame(model.predict(X_test))"
   ]
  },
  {
   "cell_type": "code",
   "execution_count": 26,
   "id": "c2541d6c-42d9-4f74-af86-134b9cec0401",
   "metadata": {
    "tags": []
   },
   "outputs": [
    {
     "data": {
      "text/html": [
       "<div>\n",
       "<style scoped>\n",
       "    .dataframe tbody tr th:only-of-type {\n",
       "        vertical-align: middle;\n",
       "    }\n",
       "\n",
       "    .dataframe tbody tr th {\n",
       "        vertical-align: top;\n",
       "    }\n",
       "\n",
       "    .dataframe thead th {\n",
       "        text-align: right;\n",
       "    }\n",
       "</style>\n",
       "<table border=\"1\" class=\"dataframe\">\n",
       "  <thead>\n",
       "    <tr style=\"text-align: right;\">\n",
       "      <th></th>\n",
       "      <th>0</th>\n",
       "      <th>1</th>\n",
       "      <th>2</th>\n",
       "    </tr>\n",
       "  </thead>\n",
       "  <tbody>\n",
       "    <tr>\n",
       "      <th>0</th>\n",
       "      <td>24.16</td>\n",
       "      <td>-42.25</td>\n",
       "      <td>3.150000e-12</td>\n",
       "    </tr>\n",
       "    <tr>\n",
       "      <th>1</th>\n",
       "      <td>25.49</td>\n",
       "      <td>-42.79</td>\n",
       "      <td>3.110000e-12</td>\n",
       "    </tr>\n",
       "    <tr>\n",
       "      <th>2</th>\n",
       "      <td>25.37</td>\n",
       "      <td>-42.72</td>\n",
       "      <td>3.110000e-12</td>\n",
       "    </tr>\n",
       "    <tr>\n",
       "      <th>3</th>\n",
       "      <td>25.63</td>\n",
       "      <td>-42.00</td>\n",
       "      <td>3.160000e-12</td>\n",
       "    </tr>\n",
       "    <tr>\n",
       "      <th>4</th>\n",
       "      <td>25.63</td>\n",
       "      <td>-41.93</td>\n",
       "      <td>3.170000e-12</td>\n",
       "    </tr>\n",
       "    <tr>\n",
       "      <th>...</th>\n",
       "      <td>...</td>\n",
       "      <td>...</td>\n",
       "      <td>...</td>\n",
       "    </tr>\n",
       "    <tr>\n",
       "      <th>1995</th>\n",
       "      <td>196.93</td>\n",
       "      <td>174.59</td>\n",
       "      <td>1.860000e-08</td>\n",
       "    </tr>\n",
       "    <tr>\n",
       "      <th>1996</th>\n",
       "      <td>197.90</td>\n",
       "      <td>174.75</td>\n",
       "      <td>1.860000e-08</td>\n",
       "    </tr>\n",
       "    <tr>\n",
       "      <th>1997</th>\n",
       "      <td>201.87</td>\n",
       "      <td>174.87</td>\n",
       "      <td>1.860000e-08</td>\n",
       "    </tr>\n",
       "    <tr>\n",
       "      <th>1998</th>\n",
       "      <td>200.02</td>\n",
       "      <td>173.07</td>\n",
       "      <td>1.840000e-08</td>\n",
       "    </tr>\n",
       "    <tr>\n",
       "      <th>1999</th>\n",
       "      <td>200.37</td>\n",
       "      <td>172.24</td>\n",
       "      <td>1.830000e-08</td>\n",
       "    </tr>\n",
       "  </tbody>\n",
       "</table>\n",
       "<p>2000 rows × 3 columns</p>\n",
       "</div>"
      ],
      "text/plain": [
       "           0       1             2\n",
       "0      24.16  -42.25  3.150000e-12\n",
       "1      25.49  -42.79  3.110000e-12\n",
       "2      25.37  -42.72  3.110000e-12\n",
       "3      25.63  -42.00  3.160000e-12\n",
       "4      25.63  -41.93  3.170000e-12\n",
       "...      ...     ...           ...\n",
       "1995  196.93  174.59  1.860000e-08\n",
       "1996  197.90  174.75  1.860000e-08\n",
       "1997  201.87  174.87  1.860000e-08\n",
       "1998  200.02  173.07  1.840000e-08\n",
       "1999  200.37  172.24  1.830000e-08\n",
       "\n",
       "[2000 rows x 3 columns]"
      ]
     },
     "execution_count": 26,
     "metadata": {},
     "output_type": "execute_result"
    }
   ],
   "source": [
    "pd.DataFrame(y_test)"
   ]
  },
  {
   "cell_type": "code",
   "execution_count": null,
   "id": "f1465dc9-e779-4d46-8060-4e8db9a0a566",
   "metadata": {},
   "outputs": [],
   "source": []
  },
  {
   "cell_type": "code",
   "execution_count": null,
   "id": "b7a16f9b-c744-4f84-a1ed-8cfe767fec12",
   "metadata": {},
   "outputs": [],
   "source": []
  },
  {
   "cell_type": "code",
   "execution_count": null,
   "id": "67ea7135-c64e-4b17-a4c6-ca25304bf5e5",
   "metadata": {
    "tags": []
   },
   "outputs": [],
   "source": []
  },
  {
   "cell_type": "markdown",
   "id": "6273e900-2de0-4dd4-8d5e-a4843b80916b",
   "metadata": {
    "tags": []
   },
   "source": [
    "A demo on how to make predictions on the data the model has never seen before. we are giving the last 6 rows of data to our model. and it's gonna predict us the next \n",
    "* the model will need the previous 6 reading to be able to predict the next values.\n",
    "\n"
   ]
  },
  {
   "cell_type": "code",
   "execution_count": 57,
   "id": "94dfb83a-d771-41bf-ba44-e7636cffee1c",
   "metadata": {
    "tags": []
   },
   "outputs": [
    {
     "name": "stdout",
     "output_type": "stream",
     "text": [
      "1/1 [==============================] - 0s 41ms/step\n"
     ]
    },
    {
     "data": {
      "text/html": [
       "<div>\n",
       "<style scoped>\n",
       "    .dataframe tbody tr th:only-of-type {\n",
       "        vertical-align: middle;\n",
       "    }\n",
       "\n",
       "    .dataframe tbody tr th {\n",
       "        vertical-align: top;\n",
       "    }\n",
       "\n",
       "    .dataframe thead th {\n",
       "        text-align: right;\n",
       "    }\n",
       "</style>\n",
       "<table border=\"1\" class=\"dataframe\">\n",
       "  <thead>\n",
       "    <tr style=\"text-align: right;\">\n",
       "      <th></th>\n",
       "      <th>0</th>\n",
       "      <th>1</th>\n",
       "      <th>2</th>\n",
       "    </tr>\n",
       "  </thead>\n",
       "  <tbody>\n",
       "    <tr>\n",
       "      <th>0</th>\n",
       "      <td>24.090269</td>\n",
       "      <td>-41.521408</td>\n",
       "      <td>-0.252459</td>\n",
       "    </tr>\n",
       "  </tbody>\n",
       "</table>\n",
       "</div>"
      ],
      "text/plain": [
       "           0          1         2\n",
       "0  24.090269 -41.521408 -0.252459"
      ]
     },
     "execution_count": 57,
     "metadata": {},
     "output_type": "execute_result"
    }
   ],
   "source": [
    "\n",
    "# assign your new dataset to new_data variable..\n",
    "new_data = data[8000:8006]\n",
    "\n",
    "\n",
    "# Create sequences for prediction\n",
    "X_new = []\n",
    "\n",
    "\n",
    "for i in range(len(new_data) - sequence_length):\n",
    "    X_new.append(new_data[columns_to_predict].iloc[i:i+sequence_length].values)\n",
    "\n",
    "X_new = np.array(X_new)\n",
    "\n",
    "# Make predictions\n",
    "predictions = model.predict(X_new)\n",
    "\n",
    "\n",
    "pd.DataFrame(predictions)"
   ]
  },
  {
   "cell_type": "code",
   "execution_count": 58,
   "id": "826e00c8-fca6-4364-9a31-51bf5b372d0b",
   "metadata": {
    "tags": []
   },
   "outputs": [
    {
     "data": {
      "text/html": [
       "<div>\n",
       "<style scoped>\n",
       "    .dataframe tbody tr th:only-of-type {\n",
       "        vertical-align: middle;\n",
       "    }\n",
       "\n",
       "    .dataframe tbody tr th {\n",
       "        vertical-align: top;\n",
       "    }\n",
       "\n",
       "    .dataframe thead th {\n",
       "        text-align: right;\n",
       "    }\n",
       "</style>\n",
       "<table border=\"1\" class=\"dataframe\">\n",
       "  <thead>\n",
       "    <tr style=\"text-align: right;\">\n",
       "      <th></th>\n",
       "      <th>Impedance</th>\n",
       "      <th>Resistance</th>\n",
       "      <th>Reactance</th>\n",
       "    </tr>\n",
       "  </thead>\n",
       "  <tbody>\n",
       "    <tr>\n",
       "      <th>8000</th>\n",
       "      <td>24.38</td>\n",
       "      <td>-42.35</td>\n",
       "      <td>3.140000e-12</td>\n",
       "    </tr>\n",
       "    <tr>\n",
       "      <th>8001</th>\n",
       "      <td>24.16</td>\n",
       "      <td>-42.25</td>\n",
       "      <td>3.150000e-12</td>\n",
       "    </tr>\n",
       "    <tr>\n",
       "      <th>8002</th>\n",
       "      <td>25.49</td>\n",
       "      <td>-42.79</td>\n",
       "      <td>3.110000e-12</td>\n",
       "    </tr>\n",
       "    <tr>\n",
       "      <th>8003</th>\n",
       "      <td>25.37</td>\n",
       "      <td>-42.72</td>\n",
       "      <td>3.110000e-12</td>\n",
       "    </tr>\n",
       "    <tr>\n",
       "      <th>8004</th>\n",
       "      <td>25.63</td>\n",
       "      <td>-42.00</td>\n",
       "      <td>3.160000e-12</td>\n",
       "    </tr>\n",
       "    <tr>\n",
       "      <th>8005</th>\n",
       "      <td>25.63</td>\n",
       "      <td>-41.93</td>\n",
       "      <td>3.170000e-12</td>\n",
       "    </tr>\n",
       "  </tbody>\n",
       "</table>\n",
       "</div>"
      ],
      "text/plain": [
       "      Impedance  Resistance     Reactance\n",
       "8000      24.38      -42.35  3.140000e-12\n",
       "8001      24.16      -42.25  3.150000e-12\n",
       "8002      25.49      -42.79  3.110000e-12\n",
       "8003      25.37      -42.72  3.110000e-12\n",
       "8004      25.63      -42.00  3.160000e-12\n",
       "8005      25.63      -41.93  3.170000e-12"
      ]
     },
     "execution_count": 58,
     "metadata": {},
     "output_type": "execute_result"
    }
   ],
   "source": [
    "pd.DataFrame((new_data))"
   ]
  },
  {
   "cell_type": "code",
   "execution_count": null,
   "id": "cea427ae-7404-4cae-a9b7-235c633e61f8",
   "metadata": {},
   "outputs": [],
   "source": []
  },
  {
   "cell_type": "code",
   "execution_count": null,
   "id": "12347a63-7533-4016-a4fe-cbeaf278424a",
   "metadata": {},
   "outputs": [],
   "source": []
  },
  {
   "cell_type": "code",
   "execution_count": 60,
   "id": "a29698b8-1115-4c1a-9cb4-084b1f5be543",
   "metadata": {
    "tags": []
   },
   "outputs": [
    {
     "name": "stdout",
     "output_type": "stream",
     "text": [
      "1/1 [==============================] - 0s 42ms/step\n",
      "1/1 [==============================] - 0s 60ms/step\n",
      "1/1 [==============================] - 0s 45ms/step\n",
      "Recursive Predictions:\n"
     ]
    },
    {
     "data": {
      "text/html": [
       "<div>\n",
       "<style scoped>\n",
       "    .dataframe tbody tr th:only-of-type {\n",
       "        vertical-align: middle;\n",
       "    }\n",
       "\n",
       "    .dataframe tbody tr th {\n",
       "        vertical-align: top;\n",
       "    }\n",
       "\n",
       "    .dataframe thead th {\n",
       "        text-align: right;\n",
       "    }\n",
       "</style>\n",
       "<table border=\"1\" class=\"dataframe\">\n",
       "  <thead>\n",
       "    <tr style=\"text-align: right;\">\n",
       "      <th></th>\n",
       "      <th>Impedance</th>\n",
       "      <th>Resistance</th>\n",
       "      <th>Reactance</th>\n",
       "    </tr>\n",
       "  </thead>\n",
       "  <tbody>\n",
       "    <tr>\n",
       "      <th>0</th>\n",
       "      <td>24.229929</td>\n",
       "      <td>-41.294571</td>\n",
       "      <td>-0.403357</td>\n",
       "    </tr>\n",
       "    <tr>\n",
       "      <th>1</th>\n",
       "      <td>23.998060</td>\n",
       "      <td>-40.973663</td>\n",
       "      <td>-0.412223</td>\n",
       "    </tr>\n",
       "    <tr>\n",
       "      <th>2</th>\n",
       "      <td>23.631247</td>\n",
       "      <td>-40.699314</td>\n",
       "      <td>-0.509893</td>\n",
       "    </tr>\n",
       "  </tbody>\n",
       "</table>\n",
       "</div>"
      ],
      "text/plain": [
       "   Impedance  Resistance  Reactance\n",
       "0  24.229929  -41.294571  -0.403357\n",
       "1  23.998060  -40.973663  -0.412223\n",
       "2  23.631247  -40.699314  -0.509893"
      ]
     },
     "execution_count": 60,
     "metadata": {},
     "output_type": "execute_result"
    }
   ],
   "source": [
    "# Number of recursive predictions you want to make\n",
    "num_predictions = 3\n",
    "\n",
    "# Create a list to store the predictions\n",
    "recursive_predictions = []\n",
    "\n",
    "for _ in range(num_predictions):\n",
    "    # Reshape the last sequence for prediction\n",
    "    input_data = X_new[-1].reshape(1, sequence_length, len(columns_to_predict))\n",
    "    \n",
    "    # Make a prediction for the next time step\n",
    "    prediction = model.predict(input_data)[0]\n",
    "    \n",
    "    # Append the prediction to the list\n",
    "    recursive_predictions.append(prediction)\n",
    "    \n",
    "    # Update the input data for the next prediction\n",
    "    X_new[-1] = np.vstack((X_new[-1][1:], prediction))\n",
    "\n",
    "    \n",
    "\n",
    "# Print the recursive predictions\n",
    "print(\"Recursive Predictions:\")\n",
    "rec_preds = pd.DataFrame(recursive_predictions, columns= ['Impedance', 'Resistance', 'Reactance'])\n",
    "rec_preds"
   ]
  },
  {
   "cell_type": "code",
   "execution_count": null,
   "id": "916656a3-e7ba-497e-b08d-bc6b9256c766",
   "metadata": {},
   "outputs": [],
   "source": []
  },
  {
   "cell_type": "code",
   "execution_count": 61,
   "id": "4db09b27-7b02-4a98-968c-eef96e07f381",
   "metadata": {},
   "outputs": [
    {
     "name": "stdout",
     "output_type": "stream",
     "text": [
      "random_forest_model.pkl loaded in the notebook and ready for predictions\n"
     ]
    }
   ],
   "source": [
    "\n",
    "# Specify the file path where the model is saved\n",
    "model_filename = 'random_forest_model.pkl'\n",
    "loaded_rf = joblib.load(model_filename)\n",
    "\n",
    "print(f\"{model_filename} loaded in the notebook and ready for predictions\")\n"
   ]
  },
  {
   "cell_type": "code",
   "execution_count": 62,
   "id": "db19a1a5-02c5-4dfb-a467-65720b0c58d0",
   "metadata": {
    "tags": []
   },
   "outputs": [
    {
     "data": {
      "text/plain": [
       "array([0, 0, 0], dtype=int64)"
      ]
     },
     "execution_count": 62,
     "metadata": {},
     "output_type": "execute_result"
    }
   ],
   "source": [
    "# Now, you can use the loaded model for predictions\n",
    "loaded_rf.predict(rec_preds)"
   ]
  },
  {
   "cell_type": "code",
   "execution_count": null,
   "id": "99a355e8-e12b-4e41-aec3-57dd14b734dc",
   "metadata": {},
   "outputs": [],
   "source": []
  },
  {
   "cell_type": "code",
   "execution_count": null,
   "id": "ac1f2b8b-6909-4baa-8a0e-d7b21414f35a",
   "metadata": {},
   "outputs": [],
   "source": []
  },
  {
   "cell_type": "code",
   "execution_count": null,
   "id": "58571b83-f796-4840-9ac9-e015cb0ab0ea",
   "metadata": {},
   "outputs": [],
   "source": []
  }
 ],
 "metadata": {
  "kernelspec": {
   "display_name": "Python 3 (ipykernel)",
   "language": "python",
   "name": "python3"
  },
  "language_info": {
   "codemirror_mode": {
    "name": "ipython",
    "version": 3
   },
   "file_extension": ".py",
   "mimetype": "text/x-python",
   "name": "python",
   "nbconvert_exporter": "python",
   "pygments_lexer": "ipython3",
   "version": "3.11.4"
  }
 },
 "nbformat": 4,
 "nbformat_minor": 5
}
