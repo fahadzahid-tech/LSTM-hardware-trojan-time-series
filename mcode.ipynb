{
 "cells": [
  {
   "cell_type": "code",
   "execution_count": null,
   "id": "9c7f95ce-a53a-405b-8ab3-bc7676b1e666",
   "metadata": {},
   "outputs": [],
   "source": [
    "\n",
    "# assign your new dataset to new_data variable..\n",
    "new_data = data.tail(6)\n",
    "\n",
    "\n",
    "# Create sequences for prediction\n",
    "X_new = []\n",
    "\n",
    "new_data[columns_to_predict] = scaler.fit_transform(new_data[columns_to_predict])\n",
    "\n",
    "for i in range(len(new_data) - sequence_length):\n",
    "    X_new.append(new_data[columns_to_predict].iloc[i:i+sequence_length].values)\n",
    "\n",
    "X_new = np.array(X_new)\n",
    "\n",
    "# Make predictions\n",
    "predictions = model.predict(X_new)\n",
    "\n",
    "# inverse transform the predictions if you scaled the data\n",
    "predictions = scaler.inverse_transform(predictions)\n"
   ]
  },
  {
   "cell_type": "code",
   "execution_count": null,
   "id": "ead79134-adb0-43ad-b622-d837ab943e2d",
   "metadata": {},
   "outputs": [],
   "source": []
  },
  {
   "cell_type": "code",
   "execution_count": null,
   "id": "a7f3078b-4d01-4a38-ae58-715fb16a1422",
   "metadata": {},
   "outputs": [],
   "source": [
    "predictions"
   ]
  },
  {
   "cell_type": "code",
   "execution_count": null,
   "id": "b6495895-56d6-43f2-a22c-b6328b628321",
   "metadata": {},
   "outputs": [],
   "source": [
    "# Number of recursive predictions you want to make\n",
    "num_predictions = 3\n",
    "\n",
    "# Create a list to store the predictions\n",
    "recursive_predictions = []\n",
    "\n",
    "for _ in range(num_predictions):\n",
    "    # Reshape the last sequence for prediction\n",
    "    input_data = X_new[-1].reshape(1, sequence_length, len(columns_to_predict))\n",
    "    \n",
    "    # Make a prediction for the next time step\n",
    "    prediction = model.predict(input_data)[0]\n",
    "    \n",
    "    # Append the prediction to the list\n",
    "    recursive_predictions.append(prediction)\n",
    "    \n",
    "    # Update the input data for the next prediction\n",
    "    X_new[-1] = np.vstack((X_new[-1][1:], prediction))\n",
    "\n",
    "# Inverse transform the recursive predictions\n",
    "recursive_predictions = scaler.inverse_transform(recursive_predictions)\n",
    "\n",
    "# Print the recursive predictions\n",
    "print(\"Recursive Predictions:\")\n",
    "pd.DataFrame(recursive_predictions)\n"
   ]
  },
  {
   "cell_type": "code",
   "execution_count": null,
   "id": "01ef31c1-ca75-443e-a420-11334d2c0b10",
   "metadata": {},
   "outputs": [],
   "source": []
  },
  {
   "cell_type": "code",
   "execution_count": null,
   "id": "3305c00c-55e1-4065-b03c-224a9b18d095",
   "metadata": {},
   "outputs": [],
   "source": []
  },
  {
   "cell_type": "code",
   "execution_count": null,
   "id": "19c27ccd-d7ec-49b4-8882-b73aacc5a025",
   "metadata": {},
   "outputs": [],
   "source": []
  },
  {
   "cell_type": "code",
   "execution_count": null,
   "id": "787949a2-6cc4-4d56-ac7b-f6516fea6069",
   "metadata": {},
   "outputs": [],
   "source": []
  },
  {
   "cell_type": "code",
   "execution_count": null,
   "id": "edd578d9-f626-4524-a9fe-17907e2489ae",
   "metadata": {},
   "outputs": [],
   "source": []
  },
  {
   "cell_type": "code",
   "execution_count": null,
   "id": "067d0612-8201-4b14-832a-cbf0e945929c",
   "metadata": {},
   "outputs": [],
   "source": []
  }
 ],
 "metadata": {
  "kernelspec": {
   "display_name": "Python 3 (ipykernel)",
   "language": "python",
   "name": "python3"
  },
  "language_info": {
   "codemirror_mode": {
    "name": "ipython",
    "version": 3
   },
   "file_extension": ".py",
   "mimetype": "text/x-python",
   "name": "python",
   "nbconvert_exporter": "python",
   "pygments_lexer": "ipython3",
   "version": "3.11.4"
  }
 },
 "nbformat": 4,
 "nbformat_minor": 5
}
