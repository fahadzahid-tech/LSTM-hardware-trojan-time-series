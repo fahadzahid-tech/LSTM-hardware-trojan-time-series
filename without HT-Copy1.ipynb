{
 "cells": [
  {
   "cell_type": "code",
   "execution_count": 4,
   "id": "c7824136-a02c-42db-95e7-aaae2b95b3f3",
   "metadata": {
    "tags": []
   },
   "outputs": [],
   "source": [
    "import numpy as np\n",
    "import pandas as pd\n",
    "import matplotlib.pyplot as plt\n",
    "from sklearn.preprocessing import MinMaxScaler\n",
    "from tensorflow import keras\n",
    "from tensorflow.keras.models import Sequential\n",
    "from tensorflow.keras.layers import LSTM, Dense, Dropout\n",
    "from tensorflow.keras.optimizers import Adam\n",
    "from keras.callbacks import ModelCheckpoint, EarlyStopping"
   ]
  },
  {
   "cell_type": "code",
   "execution_count": 5,
   "id": "7382cbb7-b92e-4e6d-af90-1c7fbe8c55af",
   "metadata": {
    "tags": []
   },
   "outputs": [],
   "source": [
    "data = pd.read_csv(\"without_HardwareTroj.csv\").drop(\"HT\", axis=1)"
   ]
  },
  {
   "cell_type": "code",
   "execution_count": 6,
   "id": "0f35da23-6917-4e8e-af67-826417111483",
   "metadata": {
    "tags": []
   },
   "outputs": [
    {
     "data": {
      "text/html": [
       "<div>\n",
       "<style scoped>\n",
       "    .dataframe tbody tr th:only-of-type {\n",
       "        vertical-align: middle;\n",
       "    }\n",
       "\n",
       "    .dataframe tbody tr th {\n",
       "        vertical-align: top;\n",
       "    }\n",
       "\n",
       "    .dataframe thead th {\n",
       "        text-align: right;\n",
       "    }\n",
       "</style>\n",
       "<table border=\"1\" class=\"dataframe\">\n",
       "  <thead>\n",
       "    <tr style=\"text-align: right;\">\n",
       "      <th></th>\n",
       "      <th>Impedance</th>\n",
       "      <th>Resistance</th>\n",
       "      <th>Reactance</th>\n",
       "    </tr>\n",
       "  </thead>\n",
       "  <tbody>\n",
       "    <tr>\n",
       "      <th>0</th>\n",
       "      <td>56.85</td>\n",
       "      <td>-798.00</td>\n",
       "      <td>3.950000e-11</td>\n",
       "    </tr>\n",
       "    <tr>\n",
       "      <th>1</th>\n",
       "      <td>67.83</td>\n",
       "      <td>-850.18</td>\n",
       "      <td>3.600000e-11</td>\n",
       "    </tr>\n",
       "    <tr>\n",
       "      <th>2</th>\n",
       "      <td>59.84</td>\n",
       "      <td>-835.34</td>\n",
       "      <td>3.560000e-11</td>\n",
       "    </tr>\n",
       "    <tr>\n",
       "      <th>3</th>\n",
       "      <td>60.60</td>\n",
       "      <td>-805.52</td>\n",
       "      <td>3.590000e-11</td>\n",
       "    </tr>\n",
       "    <tr>\n",
       "      <th>4</th>\n",
       "      <td>59.28</td>\n",
       "      <td>-778.88</td>\n",
       "      <td>3.620000e-11</td>\n",
       "    </tr>\n",
       "    <tr>\n",
       "      <th>...</th>\n",
       "      <td>...</td>\n",
       "      <td>...</td>\n",
       "      <td>...</td>\n",
       "    </tr>\n",
       "    <tr>\n",
       "      <th>9996</th>\n",
       "      <td>196.93</td>\n",
       "      <td>174.59</td>\n",
       "      <td>1.860000e-08</td>\n",
       "    </tr>\n",
       "    <tr>\n",
       "      <th>9997</th>\n",
       "      <td>197.90</td>\n",
       "      <td>174.75</td>\n",
       "      <td>1.860000e-08</td>\n",
       "    </tr>\n",
       "    <tr>\n",
       "      <th>9998</th>\n",
       "      <td>201.87</td>\n",
       "      <td>174.87</td>\n",
       "      <td>1.860000e-08</td>\n",
       "    </tr>\n",
       "    <tr>\n",
       "      <th>9999</th>\n",
       "      <td>200.02</td>\n",
       "      <td>173.07</td>\n",
       "      <td>1.840000e-08</td>\n",
       "    </tr>\n",
       "    <tr>\n",
       "      <th>10000</th>\n",
       "      <td>200.37</td>\n",
       "      <td>172.24</td>\n",
       "      <td>1.830000e-08</td>\n",
       "    </tr>\n",
       "  </tbody>\n",
       "</table>\n",
       "<p>10001 rows × 3 columns</p>\n",
       "</div>"
      ],
      "text/plain": [
       "       Impedance  Resistance     Reactance\n",
       "0          56.85     -798.00  3.950000e-11\n",
       "1          67.83     -850.18  3.600000e-11\n",
       "2          59.84     -835.34  3.560000e-11\n",
       "3          60.60     -805.52  3.590000e-11\n",
       "4          59.28     -778.88  3.620000e-11\n",
       "...          ...         ...           ...\n",
       "9996      196.93      174.59  1.860000e-08\n",
       "9997      197.90      174.75  1.860000e-08\n",
       "9998      201.87      174.87  1.860000e-08\n",
       "9999      200.02      173.07  1.840000e-08\n",
       "10000     200.37      172.24  1.830000e-08\n",
       "\n",
       "[10001 rows x 3 columns]"
      ]
     },
     "execution_count": 6,
     "metadata": {},
     "output_type": "execute_result"
    }
   ],
   "source": [
    "data"
   ]
  },
  {
   "cell_type": "code",
   "execution_count": 7,
   "id": "079d9b38-5552-4f19-b970-5a4ecb7f3a95",
   "metadata": {
    "tags": []
   },
   "outputs": [],
   "source": [
    "# Select the columns you want to predict\n",
    "columns_to_predict = ['Impedance', 'Resistance', 'Reactance']\n",
    "\n",
    "# # Normalize the data using Min-Max scaling\n",
    "# scaler = MinMaxScaler()\n",
    "# data[columns_to_predict] = scaler.fit_transform(data[columns_to_predict])"
   ]
  },
  {
   "cell_type": "code",
   "execution_count": 8,
   "id": "f5935791-4945-49f8-903c-dec4a5a2cf06",
   "metadata": {
    "tags": []
   },
   "outputs": [
    {
     "data": {
      "text/html": [
       "<div>\n",
       "<style scoped>\n",
       "    .dataframe tbody tr th:only-of-type {\n",
       "        vertical-align: middle;\n",
       "    }\n",
       "\n",
       "    .dataframe tbody tr th {\n",
       "        vertical-align: top;\n",
       "    }\n",
       "\n",
       "    .dataframe thead th {\n",
       "        text-align: right;\n",
       "    }\n",
       "</style>\n",
       "<table border=\"1\" class=\"dataframe\">\n",
       "  <thead>\n",
       "    <tr style=\"text-align: right;\">\n",
       "      <th></th>\n",
       "      <th>Impedance</th>\n",
       "      <th>Resistance</th>\n",
       "      <th>Reactance</th>\n",
       "    </tr>\n",
       "  </thead>\n",
       "  <tbody>\n",
       "    <tr>\n",
       "      <th>0</th>\n",
       "      <td>56.85</td>\n",
       "      <td>-798.00</td>\n",
       "      <td>3.950000e-11</td>\n",
       "    </tr>\n",
       "    <tr>\n",
       "      <th>1</th>\n",
       "      <td>67.83</td>\n",
       "      <td>-850.18</td>\n",
       "      <td>3.600000e-11</td>\n",
       "    </tr>\n",
       "    <tr>\n",
       "      <th>2</th>\n",
       "      <td>59.84</td>\n",
       "      <td>-835.34</td>\n",
       "      <td>3.560000e-11</td>\n",
       "    </tr>\n",
       "    <tr>\n",
       "      <th>3</th>\n",
       "      <td>60.60</td>\n",
       "      <td>-805.52</td>\n",
       "      <td>3.590000e-11</td>\n",
       "    </tr>\n",
       "    <tr>\n",
       "      <th>4</th>\n",
       "      <td>59.28</td>\n",
       "      <td>-778.88</td>\n",
       "      <td>3.620000e-11</td>\n",
       "    </tr>\n",
       "    <tr>\n",
       "      <th>...</th>\n",
       "      <td>...</td>\n",
       "      <td>...</td>\n",
       "      <td>...</td>\n",
       "    </tr>\n",
       "    <tr>\n",
       "      <th>9996</th>\n",
       "      <td>196.93</td>\n",
       "      <td>174.59</td>\n",
       "      <td>1.860000e-08</td>\n",
       "    </tr>\n",
       "    <tr>\n",
       "      <th>9997</th>\n",
       "      <td>197.90</td>\n",
       "      <td>174.75</td>\n",
       "      <td>1.860000e-08</td>\n",
       "    </tr>\n",
       "    <tr>\n",
       "      <th>9998</th>\n",
       "      <td>201.87</td>\n",
       "      <td>174.87</td>\n",
       "      <td>1.860000e-08</td>\n",
       "    </tr>\n",
       "    <tr>\n",
       "      <th>9999</th>\n",
       "      <td>200.02</td>\n",
       "      <td>173.07</td>\n",
       "      <td>1.840000e-08</td>\n",
       "    </tr>\n",
       "    <tr>\n",
       "      <th>10000</th>\n",
       "      <td>200.37</td>\n",
       "      <td>172.24</td>\n",
       "      <td>1.830000e-08</td>\n",
       "    </tr>\n",
       "  </tbody>\n",
       "</table>\n",
       "<p>10001 rows × 3 columns</p>\n",
       "</div>"
      ],
      "text/plain": [
       "       Impedance  Resistance     Reactance\n",
       "0          56.85     -798.00  3.950000e-11\n",
       "1          67.83     -850.18  3.600000e-11\n",
       "2          59.84     -835.34  3.560000e-11\n",
       "3          60.60     -805.52  3.590000e-11\n",
       "4          59.28     -778.88  3.620000e-11\n",
       "...          ...         ...           ...\n",
       "9996      196.93      174.59  1.860000e-08\n",
       "9997      197.90      174.75  1.860000e-08\n",
       "9998      201.87      174.87  1.860000e-08\n",
       "9999      200.02      173.07  1.840000e-08\n",
       "10000     200.37      172.24  1.830000e-08\n",
       "\n",
       "[10001 rows x 3 columns]"
      ]
     },
     "execution_count": 8,
     "metadata": {},
     "output_type": "execute_result"
    }
   ],
   "source": [
    "data"
   ]
  },
  {
   "cell_type": "code",
   "execution_count": 9,
   "id": "3a69f3b4-378b-468d-9264-d4b62a5b04d4",
   "metadata": {
    "tags": []
   },
   "outputs": [],
   "source": [
    "# data[columns_to_predict] = scaler.inverse_transform(data[columns_to_predict])\n",
    "# data"
   ]
  },
  {
   "cell_type": "code",
   "execution_count": 10,
   "id": "42a41d17-8955-4903-8eea-10d8a3f2b90e",
   "metadata": {
    "tags": []
   },
   "outputs": [],
   "source": [
    "sequence_length = 5 \n",
    "\n",
    "def create_sequences(data, sequence_length):\n",
    "    X, y = [], []\n",
    "    for i in range(len(data) - sequence_length):\n",
    "        X.append(data.iloc[i:i+sequence_length][columns_to_predict].values)\n",
    "        y.append(data.iloc[i+sequence_length][columns_to_predict].values)\n",
    "    return np.array(X), np.array(y)\n",
    "\n",
    "X, y = create_sequences(data, sequence_length)"
   ]
  },
  {
   "cell_type": "code",
   "execution_count": 11,
   "id": "ba68333e-8235-431d-b659-6c610b9972ff",
   "metadata": {
    "tags": []
   },
   "outputs": [
    {
     "data": {
      "text/plain": [
       "(9996, 5, 3)"
      ]
     },
     "execution_count": 11,
     "metadata": {},
     "output_type": "execute_result"
    }
   ],
   "source": [
    "X.shape"
   ]
  },
  {
   "cell_type": "code",
   "execution_count": 12,
   "id": "61d13b39-621b-4d7c-b39a-a7a905716466",
   "metadata": {
    "tags": []
   },
   "outputs": [
    {
     "data": {
      "text/plain": [
       "(9996, 3)"
      ]
     },
     "execution_count": 12,
     "metadata": {},
     "output_type": "execute_result"
    }
   ],
   "source": [
    "y.shape"
   ]
  },
  {
   "cell_type": "code",
   "execution_count": 13,
   "id": "5357ebdd-b810-4cb7-81b7-243c3dc1e960",
   "metadata": {
    "tags": []
   },
   "outputs": [],
   "source": [
    "# Define the split ratio (e.g., 80% train, 20% test)\n",
    "split_ratio = 0.8\n",
    "\n",
    "# Calculate the split index\n",
    "split_index = int(len(X) * split_ratio)\n",
    "\n",
    "# Split the data into train and test sets\n",
    "X_train, X_test = X[:split_index], X[split_index:]\n",
    "y_train, y_test = y[:split_index], y[split_index:]"
   ]
  },
  {
   "cell_type": "code",
   "execution_count": 14,
   "id": "f8b3cdc6-f452-450c-a9cb-828c017fd1c1",
   "metadata": {
    "tags": []
   },
   "outputs": [
    {
     "name": "stdout",
     "output_type": "stream",
     "text": [
      "(7996, 5, 3) (2000, 5, 3)\n"
     ]
    }
   ],
   "source": [
    "print(X_train.shape, X_test.shape)"
   ]
  },
  {
   "cell_type": "code",
   "execution_count": 15,
   "id": "755c7f60-e377-438f-a8b6-691b9c1a6728",
   "metadata": {
    "tags": []
   },
   "outputs": [
    {
     "name": "stdout",
     "output_type": "stream",
     "text": [
      "(7996, 3) (2000, 3)\n"
     ]
    }
   ],
   "source": [
    "print(y_train.shape, y_test.shape)"
   ]
  },
  {
   "cell_type": "code",
   "execution_count": null,
   "id": "e5023507-72c3-4dc4-8ae4-e8685830d4b8",
   "metadata": {
    "tags": []
   },
   "outputs": [],
   "source": []
  },
  {
   "cell_type": "code",
   "execution_count": 38,
   "id": "99c5d35f-9ee3-421c-83ac-07be9400ea1e",
   "metadata": {
    "tags": []
   },
   "outputs": [
    {
     "name": "stdout",
     "output_type": "stream",
     "text": [
      "Model: \"sequential_2\"\n",
      "_________________________________________________________________\n",
      " Layer (type)                Output Shape              Param #   \n",
      "=================================================================\n",
      " lstm_4 (LSTM)               (None, 5, 48)             9984      \n",
      "                                                                 \n",
      " lstm_5 (LSTM)               (None, 16)                4160      \n",
      "                                                                 \n",
      " dropout_2 (Dropout)         (None, 16)                0         \n",
      "                                                                 \n",
      " dense_2 (Dense)             (None, 3)                 51        \n",
      "                                                                 \n",
      "=================================================================\n",
      "Total params: 14195 (55.45 KB)\n",
      "Trainable params: 14195 (55.45 KB)\n",
      "Non-trainable params: 0 (0.00 Byte)\n",
      "_________________________________________________________________\n"
     ]
    }
   ],
   "source": [
    "# Create the model\n",
    "model = Sequential()\n",
    "\n",
    "model.add(LSTM(48, input_shape=(sequence_length, len(columns_to_predict)), activation='relu', return_sequences=True))\n",
    "\n",
    "model.add(LSTM(16, activation='relu'))  \n",
    "model.add(Dropout(0.001))\n",
    "\n",
    "model.add(Dense(len(columns_to_predict)))\n",
    "\n",
    "# Compile the model with custom learning rate\n",
    "optimizer = Adam(learning_rate=0.0001)\n",
    "model.compile(optimizer=optimizer, loss='mean_squared_error')\n",
    "\n",
    "# Print the model summary\n",
    "model.summary()\n"
   ]
  },
  {
   "cell_type": "code",
   "execution_count": 39,
   "id": "4c96f807-12a0-45f0-9777-6feea4a28569",
   "metadata": {
    "tags": []
   },
   "outputs": [
    {
     "name": "stdout",
     "output_type": "stream",
     "text": [
      "Epoch 1/60\n",
      "200/200 [==============================] - 7s 12ms/step - loss: 5543.2227 - val_loss: 7662.3350\n",
      "Epoch 2/60\n",
      "200/200 [==============================] - 2s 8ms/step - loss: 2851.3606 - val_loss: 5191.4004\n",
      "Epoch 3/60\n",
      "200/200 [==============================] - 2s 10ms/step - loss: 1746.6229 - val_loss: 2986.9309\n",
      "Epoch 4/60\n",
      "200/200 [==============================] - 2s 8ms/step - loss: 849.6479 - val_loss: 1039.7078\n",
      "Epoch 5/60\n",
      "200/200 [==============================] - 2s 9ms/step - loss: 481.3525 - val_loss: 931.4771\n",
      "Epoch 6/60\n",
      "200/200 [==============================] - 2s 9ms/step - loss: 423.8629 - val_loss: 968.7609\n",
      "Epoch 7/60\n",
      "200/200 [==============================] - 2s 9ms/step - loss: 419.9160 - val_loss: 849.3763\n",
      "Epoch 8/60\n",
      "200/200 [==============================] - 2s 9ms/step - loss: 354.6136 - val_loss: 666.2211\n",
      "Epoch 9/60\n",
      "200/200 [==============================] - 2s 9ms/step - loss: 282.3970 - val_loss: 495.1439\n",
      "Epoch 10/60\n",
      "200/200 [==============================] - 2s 10ms/step - loss: 224.9925 - val_loss: 490.9306\n",
      "Epoch 11/60\n",
      "200/200 [==============================] - 2s 9ms/step - loss: 186.5472 - val_loss: 449.7475\n",
      "Epoch 12/60\n",
      "200/200 [==============================] - 2s 10ms/step - loss: 202.4466 - val_loss: 436.3526\n",
      "Epoch 13/60\n",
      "200/200 [==============================] - 2s 9ms/step - loss: 164.8807 - val_loss: 414.9074\n",
      "Epoch 14/60\n",
      "200/200 [==============================] - 2s 9ms/step - loss: 161.5806 - val_loss: 407.0051\n",
      "Epoch 15/60\n",
      "200/200 [==============================] - 2s 9ms/step - loss: 156.2795 - val_loss: 355.0563\n",
      "Epoch 16/60\n",
      "200/200 [==============================] - 2s 9ms/step - loss: 128.1417 - val_loss: 327.7980\n",
      "Epoch 17/60\n",
      "200/200 [==============================] - 2s 9ms/step - loss: 134.7935 - val_loss: 330.4902\n",
      "Epoch 18/60\n",
      "200/200 [==============================] - 2s 9ms/step - loss: 131.0304 - val_loss: 289.0980\n",
      "Epoch 19/60\n",
      "200/200 [==============================] - 2s 9ms/step - loss: 118.9495 - val_loss: 299.0985\n",
      "Epoch 20/60\n",
      "200/200 [==============================] - 2s 8ms/step - loss: 105.9625 - val_loss: 284.5034\n",
      "Epoch 21/60\n",
      "200/200 [==============================] - 2s 9ms/step - loss: 106.4499 - val_loss: 223.7304\n",
      "Epoch 22/60\n",
      "200/200 [==============================] - 2s 9ms/step - loss: 118.9851 - val_loss: 293.4759\n",
      "Epoch 23/60\n",
      "200/200 [==============================] - 2s 9ms/step - loss: 97.4896 - val_loss: 240.5545\n",
      "Epoch 24/60\n",
      "200/200 [==============================] - 2s 9ms/step - loss: 112.5400 - val_loss: 219.9407\n",
      "Epoch 25/60\n",
      "200/200 [==============================] - 2s 9ms/step - loss: 69.2106 - val_loss: 167.0209\n",
      "Epoch 26/60\n",
      "200/200 [==============================] - 2s 9ms/step - loss: 68.7977 - val_loss: 180.5061\n",
      "Epoch 27/60\n",
      "200/200 [==============================] - 2s 9ms/step - loss: 72.0264 - val_loss: 134.4709\n",
      "Epoch 28/60\n",
      "200/200 [==============================] - 2s 10ms/step - loss: 69.8869 - val_loss: 153.4638\n",
      "Epoch 29/60\n",
      "200/200 [==============================] - 2s 8ms/step - loss: 65.5645 - val_loss: 166.2200\n",
      "Epoch 30/60\n",
      "200/200 [==============================] - 2s 9ms/step - loss: 59.2732 - val_loss: 147.7874\n",
      "Epoch 30: early stopping\n"
     ]
    }
   ],
   "source": [
    "history = model.fit(X_train, y_train, epochs=60, batch_size=32, validation_split=0.2, verbose=1, callbacks=EarlyStopping(monitor='val_loss', mode='min', verbose=1, patience=3))\n"
   ]
  },
  {
   "cell_type": "code",
   "execution_count": 40,
   "id": "99dab7e8-4906-47f5-a831-d80900ce7dfb",
   "metadata": {
    "tags": []
   },
   "outputs": [
    {
     "data": {
      "text/plain": [
       "Text(0.5, 1.0, 'Loss Curves')"
      ]
     },
     "execution_count": 40,
     "metadata": {},
     "output_type": "execute_result"
    },
    {
     "data": {
      "image/png": "[encoded data removed]",
      "text/plain": [
       "<Figure size 600x400 with 1 Axes>"
      ]
     },
     "metadata": {},
     "output_type": "display_data"
    }
   ],
   "source": [
    "# Plotting the loss curve\n",
    "plt.figure(figsize=[6,4])\n",
    "plt.plot(history.history['loss'], 'black', linewidth=2.0)\n",
    "plt.plot(history.history['val_loss'], 'blue', linewidth=2.0)\n",
    "plt.legend(['Training Loss', 'Validation Loss'], fontsize=14)\n",
    "plt.xlabel('Epochs', fontsize=10)\n",
    "plt.ylabel('Loss', fontsize=10)\n",
    "plt.title('Loss Curves', fontsize=12)"
   ]
  },
  {
   "cell_type": "code",
   "execution_count": 41,
   "id": "9f79b72d-be2c-4ed3-95bb-f770b1855828",
   "metadata": {
    "tags": []
   },
   "outputs": [
    {
     "name": "stdout",
     "output_type": "stream",
     "text": [
      "63/63 [==============================] - 1s 5ms/step - loss: 6.8479\n",
      "Test Loss: 6.8479084968566895\n"
     ]
    }
   ],
   "source": [
    "test_loss = model.evaluate(X_test, y_test)\n",
    "print(f'Test Loss: {test_loss}')"
   ]
  },
  {
   "cell_type": "code",
   "execution_count": null,
   "id": "6ec0e325-d2bc-41c3-b297-046be7c32a38",
   "metadata": {
    "tags": []
   },
   "outputs": [],
   "source": []
  },
  {
   "cell_type": "code",
   "execution_count": 42,
   "id": "07230e9c-fca1-4feb-b84b-335654577bb1",
   "metadata": {
    "tags": []
   },
   "outputs": [
    {
     "name": "stdout",
     "output_type": "stream",
     "text": [
      "250/250 [==============================] - 2s 4ms/step\n"
     ]
    }
   ],
   "source": [
    "predictions = model.predict(X_train)"
   ]
  },
  {
   "cell_type": "code",
   "execution_count": 43,
   "id": "135bd864-bf6e-4760-be43-8b6c142c3e8f",
   "metadata": {
    "tags": []
   },
   "outputs": [
    {
     "data": {
      "text/plain": [
       "(7996, 3)"
      ]
     },
     "execution_count": 43,
     "metadata": {},
     "output_type": "execute_result"
    }
   ],
   "source": [
    "predictions.shape"
   ]
  },
  {
   "cell_type": "code",
   "execution_count": 44,
   "id": "56e0b098-bafe-44f9-b5c0-039d629ad20c",
   "metadata": {
    "tags": []
   },
   "outputs": [
    {
     "data": {
      "image/png": "[encoded data removed]",
      "text/plain": [
       "<Figure size 1200x600 with 1 Axes>"
      ]
     },
     "metadata": {},
     "output_type": "display_data"
    }
   ],
   "source": [
    "#plotting the train vs predicted \n",
    "\n",
    "\n",
    "plt.figure(figsize=(12, 6))\n",
    "for i, column in enumerate(columns_to_predict):\n",
    "    plt.plot(predictions[:, i], label=f'Predicted {column}')\n",
    "    plt.plot(y_train[:, i], label=f'actual {column}')\n",
    "\n",
    "plt.xlabel('Timestamp')\n",
    "plt.ylabel('Value')\n",
    "plt.legend()\n",
    "plt.show()"
   ]
  },
  {
   "cell_type": "code",
   "execution_count": null,
   "id": "49e15f46-9331-4083-a541-602c9c0a4cc2",
   "metadata": {
    "tags": []
   },
   "outputs": [],
   "source": []
  },
  {
   "cell_type": "code",
   "execution_count": 45,
   "id": "ef9122dd-4bd8-4139-a4d1-04926d287378",
   "metadata": {
    "tags": []
   },
   "outputs": [
    {
     "name": "stdout",
     "output_type": "stream",
     "text": [
      "63/63 [==============================] - 0s 4ms/step\n"
     ]
    }
   ],
   "source": [
    "predictions = model.predict(X_test)"
   ]
  },
  {
   "cell_type": "code",
   "execution_count": 46,
   "id": "ca83cd1a-904c-469b-83b3-342b61611f4e",
   "metadata": {
    "tags": []
   },
   "outputs": [
    {
     "data": {
      "text/plain": [
       "(2000, 3)"
      ]
     },
     "execution_count": 46,
     "metadata": {},
     "output_type": "execute_result"
    }
   ],
   "source": [
    "predictions.shape"
   ]
  },
  {
   "cell_type": "code",
   "execution_count": 47,
   "id": "ee9607b9-11f5-497a-a99b-8d51d3b56f72",
   "metadata": {
    "tags": []
   },
   "outputs": [
    {
     "data": {
      "image/png": "[encoded data removed]",
      "text/plain": [
       "<Figure size 1200x600 with 1 Axes>"
      ]
     },
     "metadata": {},
     "output_type": "display_data"
    }
   ],
   "source": [
    "# plotting the test vs predicted\n",
    "\n",
    "plt.figure(figsize=(12, 6))\n",
    "for i, column in enumerate(columns_to_predict):\n",
    "    plt.plot(predictions[:, i], label=f'Predicted {column}')\n",
    "    plt.plot(y_test[:, i], label=f'actual {column}')\n",
    "\n",
    "plt.xlabel('Timestamp')\n",
    "plt.ylabel('Value')\n",
    "plt.legend()\n",
    "plt.show()"
   ]
  },
  {
   "cell_type": "code",
   "execution_count": null,
   "id": "e889e159-138b-450a-a34b-ad9ff7d0d7be",
   "metadata": {
    "tags": []
   },
   "outputs": [],
   "source": []
  },
  {
   "cell_type": "code",
   "execution_count": null,
   "id": "e0b68aed-98c5-4deb-8a5a-305b860991a6",
   "metadata": {
    "tags": []
   },
   "outputs": [],
   "source": []
  },
  {
   "cell_type": "markdown",
   "id": "b5d4d239-4351-4490-978b-4cf57f6f197e",
   "metadata": {
    "tags": []
   },
   "source": [
    "comparing the predicted values vs actual values for our test dataset."
   ]
  },
  {
   "cell_type": "code",
   "execution_count": 48,
   "id": "f1baec47-8994-4777-b353-c45853a327e9",
   "metadata": {
    "tags": []
   },
   "outputs": [
    {
     "name": "stdout",
     "output_type": "stream",
     "text": [
      "63/63 [==============================] - 0s 4ms/step\n"
     ]
    },
    {
     "data": {
      "text/html": [
       "<div>\n",
       "<style scoped>\n",
       "    .dataframe tbody tr th:only-of-type {\n",
       "        vertical-align: middle;\n",
       "    }\n",
       "\n",
       "    .dataframe tbody tr th {\n",
       "        vertical-align: top;\n",
       "    }\n",
       "\n",
       "    .dataframe thead th {\n",
       "        text-align: right;\n",
       "    }\n",
       "</style>\n",
       "<table border=\"1\" class=\"dataframe\">\n",
       "  <thead>\n",
       "    <tr style=\"text-align: right;\">\n",
       "      <th></th>\n",
       "      <th>0</th>\n",
       "      <th>1</th>\n",
       "      <th>2</th>\n",
       "    </tr>\n",
       "  </thead>\n",
       "  <tbody>\n",
       "    <tr>\n",
       "      <th>0</th>\n",
       "      <td>24.013687</td>\n",
       "      <td>-46.244133</td>\n",
       "      <td>-1.201411</td>\n",
       "    </tr>\n",
       "    <tr>\n",
       "      <th>1</th>\n",
       "      <td>23.831488</td>\n",
       "      <td>-45.853970</td>\n",
       "      <td>-1.129464</td>\n",
       "    </tr>\n",
       "    <tr>\n",
       "      <th>2</th>\n",
       "      <td>23.955702</td>\n",
       "      <td>-45.026012</td>\n",
       "      <td>-0.956884</td>\n",
       "    </tr>\n",
       "    <tr>\n",
       "      <th>3</th>\n",
       "      <td>24.236500</td>\n",
       "      <td>-45.377377</td>\n",
       "      <td>-0.960767</td>\n",
       "    </tr>\n",
       "    <tr>\n",
       "      <th>4</th>\n",
       "      <td>24.573957</td>\n",
       "      <td>-45.517292</td>\n",
       "      <td>-1.055018</td>\n",
       "    </tr>\n",
       "    <tr>\n",
       "      <th>...</th>\n",
       "      <td>...</td>\n",
       "      <td>...</td>\n",
       "      <td>...</td>\n",
       "    </tr>\n",
       "    <tr>\n",
       "      <th>1995</th>\n",
       "      <td>215.922806</td>\n",
       "      <td>173.827667</td>\n",
       "      <td>0.731984</td>\n",
       "    </tr>\n",
       "    <tr>\n",
       "      <th>1996</th>\n",
       "      <td>213.492508</td>\n",
       "      <td>173.318817</td>\n",
       "      <td>1.037172</td>\n",
       "    </tr>\n",
       "    <tr>\n",
       "      <th>1997</th>\n",
       "      <td>216.267776</td>\n",
       "      <td>175.678101</td>\n",
       "      <td>-1.238803</td>\n",
       "    </tr>\n",
       "    <tr>\n",
       "      <th>1998</th>\n",
       "      <td>213.860733</td>\n",
       "      <td>178.119446</td>\n",
       "      <td>-5.959108</td>\n",
       "    </tr>\n",
       "    <tr>\n",
       "      <th>1999</th>\n",
       "      <td>215.161224</td>\n",
       "      <td>175.932907</td>\n",
       "      <td>-5.440852</td>\n",
       "    </tr>\n",
       "  </tbody>\n",
       "</table>\n",
       "<p>2000 rows × 3 columns</p>\n",
       "</div>"
      ],
      "text/plain": [
       "               0           1         2\n",
       "0      24.013687  -46.244133 -1.201411\n",
       "1      23.831488  -45.853970 -1.129464\n",
       "2      23.955702  -45.026012 -0.956884\n",
       "3      24.236500  -45.377377 -0.960767\n",
       "4      24.573957  -45.517292 -1.055018\n",
       "...          ...         ...       ...\n",
       "1995  215.922806  173.827667  0.731984\n",
       "1996  213.492508  173.318817  1.037172\n",
       "1997  216.267776  175.678101 -1.238803\n",
       "1998  213.860733  178.119446 -5.959108\n",
       "1999  215.161224  175.932907 -5.440852\n",
       "\n",
       "[2000 rows x 3 columns]"
      ]
     },
     "execution_count": 48,
     "metadata": {},
     "output_type": "execute_result"
    }
   ],
   "source": [
    "\n",
    "pd.DataFrame(model.predict(X_test))"
   ]
  },
  {
   "cell_type": "code",
   "execution_count": 49,
   "id": "c2541d6c-42d9-4f74-af86-134b9cec0401",
   "metadata": {
    "tags": []
   },
   "outputs": [
    {
     "data": {
      "text/html": [
       "<div>\n",
       "<style scoped>\n",
       "    .dataframe tbody tr th:only-of-type {\n",
       "        vertical-align: middle;\n",
       "    }\n",
       "\n",
       "    .dataframe tbody tr th {\n",
       "        vertical-align: top;\n",
       "    }\n",
       "\n",
       "    .dataframe thead th {\n",
       "        text-align: right;\n",
       "    }\n",
       "</style>\n",
       "<table border=\"1\" class=\"dataframe\">\n",
       "  <thead>\n",
       "    <tr style=\"text-align: right;\">\n",
       "      <th></th>\n",
       "      <th>0</th>\n",
       "      <th>1</th>\n",
       "      <th>2</th>\n",
       "    </tr>\n",
       "  </thead>\n",
       "  <tbody>\n",
       "    <tr>\n",
       "      <th>0</th>\n",
       "      <td>24.16</td>\n",
       "      <td>-42.25</td>\n",
       "      <td>3.150000e-12</td>\n",
       "    </tr>\n",
       "    <tr>\n",
       "      <th>1</th>\n",
       "      <td>25.49</td>\n",
       "      <td>-42.79</td>\n",
       "      <td>3.110000e-12</td>\n",
       "    </tr>\n",
       "    <tr>\n",
       "      <th>2</th>\n",
       "      <td>25.37</td>\n",
       "      <td>-42.72</td>\n",
       "      <td>3.110000e-12</td>\n",
       "    </tr>\n",
       "    <tr>\n",
       "      <th>3</th>\n",
       "      <td>25.63</td>\n",
       "      <td>-42.00</td>\n",
       "      <td>3.160000e-12</td>\n",
       "    </tr>\n",
       "    <tr>\n",
       "      <th>4</th>\n",
       "      <td>25.63</td>\n",
       "      <td>-41.93</td>\n",
       "      <td>3.170000e-12</td>\n",
       "    </tr>\n",
       "    <tr>\n",
       "      <th>...</th>\n",
       "      <td>...</td>\n",
       "      <td>...</td>\n",
       "      <td>...</td>\n",
       "    </tr>\n",
       "    <tr>\n",
       "      <th>1995</th>\n",
       "      <td>196.93</td>\n",
       "      <td>174.59</td>\n",
       "      <td>1.860000e-08</td>\n",
       "    </tr>\n",
       "    <tr>\n",
       "      <th>1996</th>\n",
       "      <td>197.90</td>\n",
       "      <td>174.75</td>\n",
       "      <td>1.860000e-08</td>\n",
       "    </tr>\n",
       "    <tr>\n",
       "      <th>1997</th>\n",
       "      <td>201.87</td>\n",
       "      <td>174.87</td>\n",
       "      <td>1.860000e-08</td>\n",
       "    </tr>\n",
       "    <tr>\n",
       "      <th>1998</th>\n",
       "      <td>200.02</td>\n",
       "      <td>173.07</td>\n",
       "      <td>1.840000e-08</td>\n",
       "    </tr>\n",
       "    <tr>\n",
       "      <th>1999</th>\n",
       "      <td>200.37</td>\n",
       "      <td>172.24</td>\n",
       "      <td>1.830000e-08</td>\n",
       "    </tr>\n",
       "  </tbody>\n",
       "</table>\n",
       "<p>2000 rows × 3 columns</p>\n",
       "</div>"
      ],
      "text/plain": [
       "           0       1             2\n",
       "0      24.16  -42.25  3.150000e-12\n",
       "1      25.49  -42.79  3.110000e-12\n",
       "2      25.37  -42.72  3.110000e-12\n",
       "3      25.63  -42.00  3.160000e-12\n",
       "4      25.63  -41.93  3.170000e-12\n",
       "...      ...     ...           ...\n",
       "1995  196.93  174.59  1.860000e-08\n",
       "1996  197.90  174.75  1.860000e-08\n",
       "1997  201.87  174.87  1.860000e-08\n",
       "1998  200.02  173.07  1.840000e-08\n",
       "1999  200.37  172.24  1.830000e-08\n",
       "\n",
       "[2000 rows x 3 columns]"
      ]
     },
     "execution_count": 49,
     "metadata": {},
     "output_type": "execute_result"
    }
   ],
   "source": [
    "pd.DataFrame(y_test)"
   ]
  },
  {
   "cell_type": "code",
   "execution_count": null,
   "id": "f1465dc9-e779-4d46-8060-4e8db9a0a566",
   "metadata": {},
   "outputs": [],
   "source": []
  },
  {
   "cell_type": "code",
   "execution_count": 50,
   "id": "86c9ba5d-1f68-43e0-a391-32aaf99fa549",
   "metadata": {
    "tags": []
   },
   "outputs": [
    {
     "name": "stdout",
     "output_type": "stream",
     "text": [
      "250/250 [==============================] - 1s 4ms/step\n"
     ]
    },
    {
     "data": {
      "text/html": [
       "<div>\n",
       "<style scoped>\n",
       "    .dataframe tbody tr th:only-of-type {\n",
       "        vertical-align: middle;\n",
       "    }\n",
       "\n",
       "    .dataframe tbody tr th {\n",
       "        vertical-align: top;\n",
       "    }\n",
       "\n",
       "    .dataframe thead th {\n",
       "        text-align: right;\n",
       "    }\n",
       "</style>\n",
       "<table border=\"1\" class=\"dataframe\">\n",
       "  <thead>\n",
       "    <tr style=\"text-align: right;\">\n",
       "      <th></th>\n",
       "      <th>0</th>\n",
       "      <th>1</th>\n",
       "      <th>2</th>\n",
       "    </tr>\n",
       "  </thead>\n",
       "  <tbody>\n",
       "    <tr>\n",
       "      <th>0</th>\n",
       "      <td>50.335316</td>\n",
       "      <td>-746.952637</td>\n",
       "      <td>7.606476</td>\n",
       "    </tr>\n",
       "    <tr>\n",
       "      <th>1</th>\n",
       "      <td>53.493732</td>\n",
       "      <td>-737.746643</td>\n",
       "      <td>7.503293</td>\n",
       "    </tr>\n",
       "    <tr>\n",
       "      <th>2</th>\n",
       "      <td>51.552380</td>\n",
       "      <td>-716.818970</td>\n",
       "      <td>7.228951</td>\n",
       "    </tr>\n",
       "    <tr>\n",
       "      <th>3</th>\n",
       "      <td>52.080257</td>\n",
       "      <td>-696.154419</td>\n",
       "      <td>6.491963</td>\n",
       "    </tr>\n",
       "    <tr>\n",
       "      <th>4</th>\n",
       "      <td>48.099598</td>\n",
       "      <td>-676.855225</td>\n",
       "      <td>7.125226</td>\n",
       "    </tr>\n",
       "    <tr>\n",
       "      <th>...</th>\n",
       "      <td>...</td>\n",
       "      <td>...</td>\n",
       "      <td>...</td>\n",
       "    </tr>\n",
       "    <tr>\n",
       "      <th>7991</th>\n",
       "      <td>25.152138</td>\n",
       "      <td>-47.956814</td>\n",
       "      <td>-1.334882</td>\n",
       "    </tr>\n",
       "    <tr>\n",
       "      <th>7992</th>\n",
       "      <td>24.681580</td>\n",
       "      <td>-46.881931</td>\n",
       "      <td>-1.249046</td>\n",
       "    </tr>\n",
       "    <tr>\n",
       "      <th>7993</th>\n",
       "      <td>24.864624</td>\n",
       "      <td>-46.113667</td>\n",
       "      <td>-1.059619</td>\n",
       "    </tr>\n",
       "    <tr>\n",
       "      <th>7994</th>\n",
       "      <td>24.737089</td>\n",
       "      <td>-46.443951</td>\n",
       "      <td>-1.116017</td>\n",
       "    </tr>\n",
       "    <tr>\n",
       "      <th>7995</th>\n",
       "      <td>24.200047</td>\n",
       "      <td>-46.676109</td>\n",
       "      <td>-1.239595</td>\n",
       "    </tr>\n",
       "  </tbody>\n",
       "</table>\n",
       "<p>7996 rows × 3 columns</p>\n",
       "</div>"
      ],
      "text/plain": [
       "              0           1         2\n",
       "0     50.335316 -746.952637  7.606476\n",
       "1     53.493732 -737.746643  7.503293\n",
       "2     51.552380 -716.818970  7.228951\n",
       "3     52.080257 -696.154419  6.491963\n",
       "4     48.099598 -676.855225  7.125226\n",
       "...         ...         ...       ...\n",
       "7991  25.152138  -47.956814 -1.334882\n",
       "7992  24.681580  -46.881931 -1.249046\n",
       "7993  24.864624  -46.113667 -1.059619\n",
       "7994  24.737089  -46.443951 -1.116017\n",
       "7995  24.200047  -46.676109 -1.239595\n",
       "\n",
       "[7996 rows x 3 columns]"
      ]
     },
     "execution_count": 50,
     "metadata": {},
     "output_type": "execute_result"
    }
   ],
   "source": [
    "pd.DataFrame(model.predict(X_train))"
   ]
  },
  {
   "cell_type": "code",
   "execution_count": 51,
   "id": "fa7c49be-f8c0-40a1-a11c-f13738c1663b",
   "metadata": {
    "tags": []
   },
   "outputs": [
    {
     "data": {
      "text/html": [
       "<div>\n",
       "<style scoped>\n",
       "    .dataframe tbody tr th:only-of-type {\n",
       "        vertical-align: middle;\n",
       "    }\n",
       "\n",
       "    .dataframe tbody tr th {\n",
       "        vertical-align: top;\n",
       "    }\n",
       "\n",
       "    .dataframe thead th {\n",
       "        text-align: right;\n",
       "    }\n",
       "</style>\n",
       "<table border=\"1\" class=\"dataframe\">\n",
       "  <thead>\n",
       "    <tr style=\"text-align: right;\">\n",
       "      <th></th>\n",
       "      <th>0</th>\n",
       "      <th>1</th>\n",
       "      <th>2</th>\n",
       "    </tr>\n",
       "  </thead>\n",
       "  <tbody>\n",
       "    <tr>\n",
       "      <th>0</th>\n",
       "      <td>53.85</td>\n",
       "      <td>-758.55</td>\n",
       "      <td>3.620000e-11</td>\n",
       "    </tr>\n",
       "    <tr>\n",
       "      <th>1</th>\n",
       "      <td>50.79</td>\n",
       "      <td>-742.23</td>\n",
       "      <td>3.610000e-11</td>\n",
       "    </tr>\n",
       "    <tr>\n",
       "      <th>2</th>\n",
       "      <td>49.20</td>\n",
       "      <td>-707.27</td>\n",
       "      <td>3.690000e-11</td>\n",
       "    </tr>\n",
       "    <tr>\n",
       "      <th>3</th>\n",
       "      <td>47.00</td>\n",
       "      <td>-686.68</td>\n",
       "      <td>3.710000e-11</td>\n",
       "    </tr>\n",
       "    <tr>\n",
       "      <th>4</th>\n",
       "      <td>44.77</td>\n",
       "      <td>-686.41</td>\n",
       "      <td>3.630000e-11</td>\n",
       "    </tr>\n",
       "    <tr>\n",
       "      <th>...</th>\n",
       "      <td>...</td>\n",
       "      <td>...</td>\n",
       "      <td>...</td>\n",
       "    </tr>\n",
       "    <tr>\n",
       "      <th>7991</th>\n",
       "      <td>25.11</td>\n",
       "      <td>-43.11</td>\n",
       "      <td>3.090000e-12</td>\n",
       "    </tr>\n",
       "    <tr>\n",
       "      <th>7992</th>\n",
       "      <td>25.63</td>\n",
       "      <td>-43.21</td>\n",
       "      <td>3.080000e-12</td>\n",
       "    </tr>\n",
       "    <tr>\n",
       "      <th>7993</th>\n",
       "      <td>25.16</td>\n",
       "      <td>-42.78</td>\n",
       "      <td>3.110000e-12</td>\n",
       "    </tr>\n",
       "    <tr>\n",
       "      <th>7994</th>\n",
       "      <td>24.41</td>\n",
       "      <td>-42.51</td>\n",
       "      <td>3.130000e-12</td>\n",
       "    </tr>\n",
       "    <tr>\n",
       "      <th>7995</th>\n",
       "      <td>24.38</td>\n",
       "      <td>-42.35</td>\n",
       "      <td>3.140000e-12</td>\n",
       "    </tr>\n",
       "  </tbody>\n",
       "</table>\n",
       "<p>7996 rows × 3 columns</p>\n",
       "</div>"
      ],
      "text/plain": [
       "          0       1             2\n",
       "0     53.85 -758.55  3.620000e-11\n",
       "1     50.79 -742.23  3.610000e-11\n",
       "2     49.20 -707.27  3.690000e-11\n",
       "3     47.00 -686.68  3.710000e-11\n",
       "4     44.77 -686.41  3.630000e-11\n",
       "...     ...     ...           ...\n",
       "7991  25.11  -43.11  3.090000e-12\n",
       "7992  25.63  -43.21  3.080000e-12\n",
       "7993  25.16  -42.78  3.110000e-12\n",
       "7994  24.41  -42.51  3.130000e-12\n",
       "7995  24.38  -42.35  3.140000e-12\n",
       "\n",
       "[7996 rows x 3 columns]"
      ]
     },
     "execution_count": 51,
     "metadata": {},
     "output_type": "execute_result"
    }
   ],
   "source": [
    "pd.DataFrame(y_train)"
   ]
  },
  {
   "cell_type": "code",
   "execution_count": null,
   "id": "b7a16f9b-c744-4f84-a1ed-8cfe767fec12",
   "metadata": {},
   "outputs": [],
   "source": []
  },
  {
   "cell_type": "code",
   "execution_count": null,
   "id": "67ea7135-c64e-4b17-a4c6-ca25304bf5e5",
   "metadata": {
    "tags": []
   },
   "outputs": [],
   "source": []
  },
  {
   "cell_type": "markdown",
   "id": "6273e900-2de0-4dd4-8d5e-a4843b80916b",
   "metadata": {
    "tags": []
   },
   "source": [
    "A demo on how to make predictions on the data the model has never seen before. we are giving the last 6 rows of data to our model. and it's gonna predict us the next \n",
    "* the model will need the previous 6 reading to be able to predict the next values.\n",
    "\n"
   ]
  },
  {
   "cell_type": "code",
   "execution_count": 61,
   "id": "75009a54-318e-4ed1-ba3d-0109fe67c182",
   "metadata": {
    "tags": []
   },
   "outputs": [
    {
     "data": {
      "text/html": [
       "<div>\n",
       "<style scoped>\n",
       "    .dataframe tbody tr th:only-of-type {\n",
       "        vertical-align: middle;\n",
       "    }\n",
       "\n",
       "    .dataframe tbody tr th {\n",
       "        vertical-align: top;\n",
       "    }\n",
       "\n",
       "    .dataframe thead th {\n",
       "        text-align: right;\n",
       "    }\n",
       "</style>\n",
       "<table border=\"1\" class=\"dataframe\">\n",
       "  <thead>\n",
       "    <tr style=\"text-align: right;\">\n",
       "      <th></th>\n",
       "      <th>Impedance</th>\n",
       "      <th>Resistance</th>\n",
       "      <th>Reactance</th>\n",
       "    </tr>\n",
       "  </thead>\n",
       "  <tbody>\n",
       "    <tr>\n",
       "      <th>9000</th>\n",
       "      <td>7.96</td>\n",
       "      <td>30.89</td>\n",
       "      <td>3.650000e-09</td>\n",
       "    </tr>\n",
       "    <tr>\n",
       "      <th>9001</th>\n",
       "      <td>7.89</td>\n",
       "      <td>31.07</td>\n",
       "      <td>3.670000e-09</td>\n",
       "    </tr>\n",
       "    <tr>\n",
       "      <th>9002</th>\n",
       "      <td>7.94</td>\n",
       "      <td>31.16</td>\n",
       "      <td>3.680000e-09</td>\n",
       "    </tr>\n",
       "    <tr>\n",
       "      <th>9003</th>\n",
       "      <td>7.92</td>\n",
       "      <td>31.25</td>\n",
       "      <td>3.690000e-09</td>\n",
       "    </tr>\n",
       "    <tr>\n",
       "      <th>9004</th>\n",
       "      <td>7.99</td>\n",
       "      <td>31.22</td>\n",
       "      <td>3.690000e-09</td>\n",
       "    </tr>\n",
       "    <tr>\n",
       "      <th>9005</th>\n",
       "      <td>7.93</td>\n",
       "      <td>31.27</td>\n",
       "      <td>3.700000e-09</td>\n",
       "    </tr>\n",
       "  </tbody>\n",
       "</table>\n",
       "</div>"
      ],
      "text/plain": [
       "      Impedance  Resistance     Reactance\n",
       "9000       7.96       30.89  3.650000e-09\n",
       "9001       7.89       31.07  3.670000e-09\n",
       "9002       7.94       31.16  3.680000e-09\n",
       "9003       7.92       31.25  3.690000e-09\n",
       "9004       7.99       31.22  3.690000e-09\n",
       "9005       7.93       31.27  3.700000e-09"
      ]
     },
     "execution_count": 61,
     "metadata": {},
     "output_type": "execute_result"
    }
   ],
   "source": [
    "data.iloc[9000:9006]"
   ]
  },
  {
   "cell_type": "code",
   "execution_count": 62,
   "id": "94dfb83a-d771-41bf-ba44-e7636cffee1c",
   "metadata": {
    "tags": []
   },
   "outputs": [
    {
     "name": "stdout",
     "output_type": "stream",
     "text": [
      "1/1 [==============================] - 0s 48ms/step\n"
     ]
    },
    {
     "data": {
      "text/html": [
       "<div>\n",
       "<style scoped>\n",
       "    .dataframe tbody tr th:only-of-type {\n",
       "        vertical-align: middle;\n",
       "    }\n",
       "\n",
       "    .dataframe tbody tr th {\n",
       "        vertical-align: top;\n",
       "    }\n",
       "\n",
       "    .dataframe thead th {\n",
       "        text-align: right;\n",
       "    }\n",
       "</style>\n",
       "<table border=\"1\" class=\"dataframe\">\n",
       "  <thead>\n",
       "    <tr style=\"text-align: right;\">\n",
       "      <th></th>\n",
       "      <th>0</th>\n",
       "      <th>1</th>\n",
       "      <th>2</th>\n",
       "    </tr>\n",
       "  </thead>\n",
       "  <tbody>\n",
       "    <tr>\n",
       "      <th>0</th>\n",
       "      <td>7.757646</td>\n",
       "      <td>31.319336</td>\n",
       "      <td>-0.038525</td>\n",
       "    </tr>\n",
       "  </tbody>\n",
       "</table>\n",
       "</div>"
      ],
      "text/plain": [
       "          0          1         2\n",
       "0  7.757646  31.319336 -0.038525"
      ]
     },
     "execution_count": 62,
     "metadata": {},
     "output_type": "execute_result"
    }
   ],
   "source": [
    "\n",
    "# assign your new dataset to new_data variable..\n",
    "new_data = data.iloc[9000:9006]\n",
    "\n",
    "\n",
    "# Create sequences for prediction\n",
    "X_new = []\n",
    "\n",
    "\n",
    "for i in range(len(new_data) - sequence_length):\n",
    "    X_new.append(new_data[columns_to_predict].iloc[i:i+sequence_length].values)\n",
    "\n",
    "X_new = np.array(X_new)\n",
    "\n",
    "# Make predictions\n",
    "predictions = model.predict(X_new)\n",
    "\n",
    "\n",
    "predictions = pd.DataFrame(predictions)\n",
    "predictions"
   ]
  },
  {
   "cell_type": "code",
   "execution_count": 63,
   "id": "826e00c8-fca6-4364-9a31-51bf5b372d0b",
   "metadata": {
    "tags": []
   },
   "outputs": [
    {
     "data": {
      "text/html": [
       "<div>\n",
       "<style scoped>\n",
       "    .dataframe tbody tr th:only-of-type {\n",
       "        vertical-align: middle;\n",
       "    }\n",
       "\n",
       "    .dataframe tbody tr th {\n",
       "        vertical-align: top;\n",
       "    }\n",
       "\n",
       "    .dataframe thead th {\n",
       "        text-align: right;\n",
       "    }\n",
       "</style>\n",
       "<table border=\"1\" class=\"dataframe\">\n",
       "  <thead>\n",
       "    <tr style=\"text-align: right;\">\n",
       "      <th></th>\n",
       "      <th>Impedance</th>\n",
       "      <th>Resistance</th>\n",
       "      <th>Reactance</th>\n",
       "    </tr>\n",
       "  </thead>\n",
       "  <tbody>\n",
       "    <tr>\n",
       "      <th>9000</th>\n",
       "      <td>7.96</td>\n",
       "      <td>30.89</td>\n",
       "      <td>3.650000e-09</td>\n",
       "    </tr>\n",
       "    <tr>\n",
       "      <th>9001</th>\n",
       "      <td>7.89</td>\n",
       "      <td>31.07</td>\n",
       "      <td>3.670000e-09</td>\n",
       "    </tr>\n",
       "    <tr>\n",
       "      <th>9002</th>\n",
       "      <td>7.94</td>\n",
       "      <td>31.16</td>\n",
       "      <td>3.680000e-09</td>\n",
       "    </tr>\n",
       "    <tr>\n",
       "      <th>9003</th>\n",
       "      <td>7.92</td>\n",
       "      <td>31.25</td>\n",
       "      <td>3.690000e-09</td>\n",
       "    </tr>\n",
       "    <tr>\n",
       "      <th>9004</th>\n",
       "      <td>7.99</td>\n",
       "      <td>31.22</td>\n",
       "      <td>3.690000e-09</td>\n",
       "    </tr>\n",
       "    <tr>\n",
       "      <th>9005</th>\n",
       "      <td>7.93</td>\n",
       "      <td>31.27</td>\n",
       "      <td>3.700000e-09</td>\n",
       "    </tr>\n",
       "  </tbody>\n",
       "</table>\n",
       "</div>"
      ],
      "text/plain": [
       "      Impedance  Resistance     Reactance\n",
       "9000       7.96       30.89  3.650000e-09\n",
       "9001       7.89       31.07  3.670000e-09\n",
       "9002       7.94       31.16  3.680000e-09\n",
       "9003       7.92       31.25  3.690000e-09\n",
       "9004       7.99       31.22  3.690000e-09\n",
       "9005       7.93       31.27  3.700000e-09"
      ]
     },
     "execution_count": 63,
     "metadata": {},
     "output_type": "execute_result"
    }
   ],
   "source": [
    "new_data"
   ]
  },
  {
   "cell_type": "code",
   "execution_count": null,
   "id": "a29698b8-1115-4c1a-9cb4-084b1f5be543",
   "metadata": {
    "tags": []
   },
   "outputs": [],
   "source": []
  },
  {
   "cell_type": "code",
   "execution_count": null,
   "id": "9bf31161-15ed-417a-9790-d44218a80a41",
   "metadata": {},
   "outputs": [],
   "source": []
  },
  {
   "cell_type": "code",
   "execution_count": null,
   "id": "4784eaf7-c83d-4864-9eca-5e61537c32db",
   "metadata": {},
   "outputs": [],
   "source": []
  },
  {
   "cell_type": "code",
   "execution_count": null,
   "id": "916656a3-e7ba-497e-b08d-bc6b9256c766",
   "metadata": {},
   "outputs": [],
   "source": []
  },
  {
   "cell_type": "code",
   "execution_count": null,
   "id": "4db09b27-7b02-4a98-968c-eef96e07f381",
   "metadata": {},
   "outputs": [],
   "source": []
  },
  {
   "cell_type": "code",
   "execution_count": null,
   "id": "db19a1a5-02c5-4dfb-a467-65720b0c58d0",
   "metadata": {
    "tags": []
   },
   "outputs": [],
   "source": []
  },
  {
   "cell_type": "code",
   "execution_count": null,
   "id": "99a355e8-e12b-4e41-aec3-57dd14b734dc",
   "metadata": {},
   "outputs": [],
   "source": []
  },
  {
   "cell_type": "code",
   "execution_count": null,
   "id": "ac1f2b8b-6909-4baa-8a0e-d7b21414f35a",
   "metadata": {},
   "outputs": [],
   "source": []
  },
  {
   "cell_type": "code",
   "execution_count": null,
   "id": "58571b83-f796-4840-9ac9-e015cb0ab0ea",
   "metadata": {},
   "outputs": [],
   "source": []
  }
 ],
 "metadata": {
  "kernelspec": {
   "display_name": "Python 3 (ipykernel)",
   "language": "python",
   "name": "python3"
  },
  "language_info": {
   "codemirror_mode": {
    "name": "ipython",
    "version": 3
   },
   "file_extension": ".py",
   "mimetype": "text/x-python",
   "name": "python",
   "nbconvert_exporter": "python",
   "pygments_lexer": "ipython3",
   "version": "3.11.4"
  }
 },
 "nbformat": 4,
 "nbformat_minor": 5
}
